{
 "cells": [
  {
   "cell_type": "markdown",
   "metadata": {},
   "source": [
    "# Lite Architecture Experiment Results"
   ]
  },
  {
   "cell_type": "code",
   "execution_count": 155,
   "metadata": {},
   "outputs": [],
   "source": [
    "import json\n",
    "\n",
    "import numpy as np\n",
    "import pandas as pd\n",
    "import matplotlib.pyplot as plt\n",
    "import seaborn as sns\n",
    "import scipy.stats as st\n",
    "import statsmodels.stats.api as sms\n",
    "\n",
    "from db import conn"
   ]
  },
  {
   "cell_type": "code",
   "execution_count": 156,
   "metadata": {},
   "outputs": [],
   "source": [
    "%matplotlib inline"
   ]
  },
  {
   "cell_type": "code",
   "execution_count": 157,
   "metadata": {},
   "outputs": [],
   "source": [
    "sns.set_style(\"whitegrid\")"
   ]
  },
  {
   "cell_type": "code",
   "execution_count": 158,
   "metadata": {},
   "outputs": [],
   "source": [
    "cursor = conn.cursor()\n",
    "experiment_rows = [r for r in cursor.execute(\"\"\"\n",
    "    select g.name, args, dev_metric, test_metric from experiments e\n",
    "    join experiment_groups g on e.group_id=g.gid\n",
    "    where g.name=?\"\"\", ('mpcnn-v2-lite-fix-params-and-seed',))]"
   ]
  },
  {
   "cell_type": "code",
   "execution_count": 159,
   "metadata": {},
   "outputs": [
    {
     "data": {
      "text/plain": [
       "150"
      ]
     },
     "execution_count": 159,
     "metadata": {},
     "output_type": "execute_result"
    }
   ],
   "source": [
    "len(experiment_rows)"
   ]
  },
  {
   "cell_type": "code",
   "execution_count": 160,
   "metadata": {},
   "outputs": [],
   "source": [
    "experiment_results = {\n",
    "    'trecqa': [],\n",
    "    'wikiqa': [],\n",
    "    'sick': []\n",
    "}\n",
    "\n",
    "for row in experiment_rows:\n",
    "    args = json.loads(row[1])\n",
    "    dev_metrics = json.loads(row[2])\n",
    "    test_metrics = json.loads(row[3])\n",
    "    dataset = args['dataset']\n",
    "    \n",
    "    if args['arch'] == 'mpcnn_no_per_dim_no_multi_pooling':\n",
    "        arch = 'MP-CNN Lite'\n",
    "    elif args['arch'] == 'mpcnn_no_per_dim_no_multi_pooling_no_horiz' or args['arch'] == 'mpcnn_no_per_dim_no_multi_pooling_no_horiz_no_inf':\n",
    "        continue\n",
    "    elif args['arch'] == 'smcnn_with_comp':\n",
    "        arch = 'SM-CNN with Comp'\n",
    "    else:\n",
    "        arch = 'MP-CNN'\n",
    "    \n",
    "    res_base = {\n",
    "        'arch': arch,\n",
    "        'dataset': dataset,\n",
    "        'seed': args['seed']\n",
    "    }\n",
    "    \n",
    "    results = []\n",
    "    \n",
    "    if dataset in ('trecqa', 'wikiqa'):\n",
    "        results.append({**res_base, **{'split': 'dev', 'metric_name': 'MAP', 'metric_val': dev_metrics['map']}})\n",
    "        results.append({**res_base, **{'split': 'dev', 'metric_name': 'MRR', 'metric_val': dev_metrics['mrr']}})\n",
    "        results.append({**res_base, **{'split': 'test', 'metric_name': 'MAP', 'metric_val': test_metrics['map']}})\n",
    "        results.append({**res_base, **{'split': 'test', 'metric_name': 'MRR', 'metric_val': test_metrics['mrr']}})\n",
    "    elif dataset == 'sick':\n",
    "        results.append({**res_base, **{'split': 'dev', 'metric_name': 'pearson', 'metric_val': dev_metrics['pearson']}})\n",
    "        results.append({**res_base, **{'split': 'dev', 'metric_name': 'spearman', 'metric_val': dev_metrics['spearman']}})\n",
    "        results.append({**res_base, **{'split': 'test', 'metric_name': 'pearson', 'metric_val': test_metrics['pearson']}})\n",
    "        results.append({**res_base, **{'split': 'test', 'metric_name': 'spearman', 'metric_val': test_metrics['spearman']}})\n",
    "    \n",
    "    experiment_results[dataset].extend(results)"
   ]
  },
  {
   "cell_type": "code",
   "execution_count": 161,
   "metadata": {},
   "outputs": [],
   "source": [
    "trecqa = pd.DataFrame(experiment_results['trecqa'])\n",
    "wikiqa = pd.DataFrame(experiment_results['wikiqa'])\n",
    "sick = pd.DataFrame(experiment_results['sick'])"
   ]
  },
  {
   "cell_type": "code",
   "execution_count": 162,
   "metadata": {},
   "outputs": [
    {
     "data": {
      "text/plain": [
       "array(['MP-CNN', 'MP-CNN Lite', 'SM-CNN with Comp'], dtype=object)"
      ]
     },
     "execution_count": 162,
     "metadata": {},
     "output_type": "execute_result"
    }
   ],
   "source": [
    "trecqa['arch'].unique()"
   ]
  },
  {
   "cell_type": "code",
   "execution_count": 163,
   "metadata": {},
   "outputs": [],
   "source": [
    "archs = ['MP-CNN', 'MP-CNN Lite', 'SM-CNN with Comp']\n",
    "def compare_change_to_baseline(df, metric):\n",
    "    config_ids = df['seed'].unique()\n",
    "    for arch in archs:\n",
    "        diffs = []\n",
    "        for config_id in config_ids:\n",
    "            baseline = df[(df['seed'] == config_id) & (df['arch'] == 'MP-CNN')].iloc[0]['metric_val']\n",
    "            conf_perf = df[(df['seed'] == config_id) & (df['arch'] == arch)].iloc[0]['metric_val']\n",
    "            diffs.append(conf_perf - baseline)\n",
    "\n",
    "        print(f'Architecture: {arch}')\n",
    "        print(f'Median of {metric} change compared with single baseline: {np.median(diffs):.4f}')\n",
    "        print(f'Mean of {metric} change compared with single baseline: {np.mean(diffs):.4f}')"
   ]
  },
  {
   "cell_type": "markdown",
   "metadata": {},
   "source": [
    "## TrecQA"
   ]
  },
  {
   "cell_type": "code",
   "execution_count": 164,
   "metadata": {},
   "outputs": [],
   "source": [
    "trec_map_vs_archs_test = trecqa[(trecqa['metric_name'] == 'MAP') & (trecqa['split'] == 'test')]\n",
    "trec_mrr_vs_archs_test = trecqa[(trecqa['metric_name'] == 'MRR') & (trecqa['split'] == 'test')]\n",
    "trec_map_vs_archs_dev = trecqa[(trecqa['metric_name'] == 'MAP') & (trecqa['split'] == 'dev')]\n",
    "trec_mrr_vs_archs_dev = trecqa[(trecqa['metric_name'] == 'MRR') & (trecqa['split'] == 'dev')]"
   ]
  },
  {
   "cell_type": "code",
   "execution_count": 165,
   "metadata": {},
   "outputs": [
    {
     "name": "stdout",
     "output_type": "stream",
     "text": [
      "MP-CNN: (0.7252, 0.8184)\n",
      "MP-CNN Lite: (0.7561, 0.7840)\n",
      "SM-CNN with Comp: (0.6644, 0.6808)\n"
     ]
    }
   ],
   "source": [
    "for arch in trec_map_vs_archs_test['arch'].unique():\n",
    "    arr = trec_map_vs_archs_test[trec_map_vs_archs_test['arch'] == arch]['metric_val']\n",
    "    ci = sms.DescrStatsW(arr).tconfint_mean()\n",
    "    print(f'{arch}: ({ci[0]:.4f}, {ci[1]:.4f})')"
   ]
  },
  {
   "cell_type": "code",
   "execution_count": 166,
   "metadata": {},
   "outputs": [
    {
     "name": "stdout",
     "output_type": "stream",
     "text": [
      "MP-CNN: (0.7550, 0.8406)\n",
      "MP-CNN Lite: (0.8299, 0.8550)\n",
      "SM-CNN with Comp: (0.7553, 0.7788)\n"
     ]
    }
   ],
   "source": [
    "for arch in trec_mrr_vs_archs_test['arch'].unique():\n",
    "    arr = trec_mrr_vs_archs_test[trec_mrr_vs_archs_test['arch'] == arch]['metric_val']\n",
    "    ci = sms.DescrStatsW(arr).tconfint_mean()\n",
    "    print(f'{arch}: ({ci[0]:.4f}, {ci[1]:.4f})')"
   ]
  },
  {
   "cell_type": "code",
   "execution_count": 167,
   "metadata": {},
   "outputs": [
    {
     "data": {
      "text/html": [
       "<div>\n",
       "<style scoped>\n",
       "    .dataframe tbody tr th:only-of-type {\n",
       "        vertical-align: middle;\n",
       "    }\n",
       "\n",
       "    .dataframe tbody tr th {\n",
       "        vertical-align: top;\n",
       "    }\n",
       "\n",
       "    .dataframe thead th {\n",
       "        text-align: right;\n",
       "    }\n",
       "</style>\n",
       "<table border=\"1\" class=\"dataframe\">\n",
       "  <thead>\n",
       "    <tr style=\"text-align: right;\">\n",
       "      <th></th>\n",
       "      <th>metric_val</th>\n",
       "      <th>seed</th>\n",
       "    </tr>\n",
       "    <tr>\n",
       "      <th>arch</th>\n",
       "      <th></th>\n",
       "      <th></th>\n",
       "    </tr>\n",
       "  </thead>\n",
       "  <tbody>\n",
       "    <tr>\n",
       "      <th>MP-CNN</th>\n",
       "      <td>0.77179</td>\n",
       "      <td>461056.7</td>\n",
       "    </tr>\n",
       "    <tr>\n",
       "      <th>MP-CNN Lite</th>\n",
       "      <td>0.77006</td>\n",
       "      <td>461056.7</td>\n",
       "    </tr>\n",
       "    <tr>\n",
       "      <th>SM-CNN with Comp</th>\n",
       "      <td>0.67263</td>\n",
       "      <td>461056.7</td>\n",
       "    </tr>\n",
       "  </tbody>\n",
       "</table>\n",
       "</div>"
      ],
      "text/plain": [
       "                  metric_val      seed\n",
       "arch                                  \n",
       "MP-CNN               0.77179  461056.7\n",
       "MP-CNN Lite          0.77006  461056.7\n",
       "SM-CNN with Comp     0.67263  461056.7"
      ]
     },
     "execution_count": 167,
     "metadata": {},
     "output_type": "execute_result"
    }
   ],
   "source": [
    "trec_map_vs_archs_test.groupby('arch').mean()"
   ]
  },
  {
   "cell_type": "code",
   "execution_count": 168,
   "metadata": {},
   "outputs": [
    {
     "data": {
      "text/html": [
       "<div>\n",
       "<style scoped>\n",
       "    .dataframe tbody tr th:only-of-type {\n",
       "        vertical-align: middle;\n",
       "    }\n",
       "\n",
       "    .dataframe tbody tr th {\n",
       "        vertical-align: top;\n",
       "    }\n",
       "\n",
       "    .dataframe thead th {\n",
       "        text-align: right;\n",
       "    }\n",
       "</style>\n",
       "<table border=\"1\" class=\"dataframe\">\n",
       "  <thead>\n",
       "    <tr style=\"text-align: right;\">\n",
       "      <th></th>\n",
       "      <th>metric_val</th>\n",
       "      <th>seed</th>\n",
       "    </tr>\n",
       "    <tr>\n",
       "      <th>arch</th>\n",
       "      <th></th>\n",
       "      <th></th>\n",
       "    </tr>\n",
       "  </thead>\n",
       "  <tbody>\n",
       "    <tr>\n",
       "      <th>MP-CNN</th>\n",
       "      <td>0.79778</td>\n",
       "      <td>461056.7</td>\n",
       "    </tr>\n",
       "    <tr>\n",
       "      <th>MP-CNN Lite</th>\n",
       "      <td>0.84248</td>\n",
       "      <td>461056.7</td>\n",
       "    </tr>\n",
       "    <tr>\n",
       "      <th>SM-CNN with Comp</th>\n",
       "      <td>0.76703</td>\n",
       "      <td>461056.7</td>\n",
       "    </tr>\n",
       "  </tbody>\n",
       "</table>\n",
       "</div>"
      ],
      "text/plain": [
       "                  metric_val      seed\n",
       "arch                                  \n",
       "MP-CNN               0.79778  461056.7\n",
       "MP-CNN Lite          0.84248  461056.7\n",
       "SM-CNN with Comp     0.76703  461056.7"
      ]
     },
     "execution_count": 168,
     "metadata": {},
     "output_type": "execute_result"
    }
   ],
   "source": [
    "trec_mrr_vs_archs_test.groupby('arch').mean()"
   ]
  },
  {
   "cell_type": "code",
   "execution_count": 169,
   "metadata": {},
   "outputs": [
    {
     "data": {
      "text/html": [
       "<div>\n",
       "<style scoped>\n",
       "    .dataframe tbody tr th:only-of-type {\n",
       "        vertical-align: middle;\n",
       "    }\n",
       "\n",
       "    .dataframe tbody tr th {\n",
       "        vertical-align: top;\n",
       "    }\n",
       "\n",
       "    .dataframe thead th {\n",
       "        text-align: right;\n",
       "    }\n",
       "</style>\n",
       "<table border=\"1\" class=\"dataframe\">\n",
       "  <thead>\n",
       "    <tr style=\"text-align: right;\">\n",
       "      <th></th>\n",
       "      <th>arch</th>\n",
       "      <th>dataset</th>\n",
       "      <th>metric_name</th>\n",
       "      <th>metric_val</th>\n",
       "      <th>seed</th>\n",
       "      <th>split</th>\n",
       "    </tr>\n",
       "  </thead>\n",
       "  <tbody>\n",
       "    <tr>\n",
       "      <th>98</th>\n",
       "      <td>SM-CNN with Comp</td>\n",
       "      <td>trecqa</td>\n",
       "      <td>MAP</td>\n",
       "      <td>0.6749</td>\n",
       "      <td>15137</td>\n",
       "      <td>test</td>\n",
       "    </tr>\n",
       "    <tr>\n",
       "      <th>38</th>\n",
       "      <td>MP-CNN Lite</td>\n",
       "      <td>trecqa</td>\n",
       "      <td>MAP</td>\n",
       "      <td>0.7691</td>\n",
       "      <td>15137</td>\n",
       "      <td>test</td>\n",
       "    </tr>\n",
       "    <tr>\n",
       "      <th>34</th>\n",
       "      <td>MP-CNN</td>\n",
       "      <td>trecqa</td>\n",
       "      <td>MAP</td>\n",
       "      <td>0.8158</td>\n",
       "      <td>15137</td>\n",
       "      <td>test</td>\n",
       "    </tr>\n",
       "    <tr>\n",
       "      <th>118</th>\n",
       "      <td>SM-CNN with Comp</td>\n",
       "      <td>trecqa</td>\n",
       "      <td>MAP</td>\n",
       "      <td>0.6449</td>\n",
       "      <td>60085</td>\n",
       "      <td>test</td>\n",
       "    </tr>\n",
       "    <tr>\n",
       "      <th>78</th>\n",
       "      <td>MP-CNN Lite</td>\n",
       "      <td>trecqa</td>\n",
       "      <td>MAP</td>\n",
       "      <td>0.7757</td>\n",
       "      <td>60085</td>\n",
       "      <td>test</td>\n",
       "    </tr>\n",
       "    <tr>\n",
       "      <th>74</th>\n",
       "      <td>MP-CNN</td>\n",
       "      <td>trecqa</td>\n",
       "      <td>MAP</td>\n",
       "      <td>0.8028</td>\n",
       "      <td>60085</td>\n",
       "      <td>test</td>\n",
       "    </tr>\n",
       "    <tr>\n",
       "      <th>82</th>\n",
       "      <td>SM-CNN with Comp</td>\n",
       "      <td>trecqa</td>\n",
       "      <td>MAP</td>\n",
       "      <td>0.6723</td>\n",
       "      <td>286404</td>\n",
       "      <td>test</td>\n",
       "    </tr>\n",
       "    <tr>\n",
       "      <th>2</th>\n",
       "      <td>MP-CNN</td>\n",
       "      <td>trecqa</td>\n",
       "      <td>MAP</td>\n",
       "      <td>0.6996</td>\n",
       "      <td>286404</td>\n",
       "      <td>test</td>\n",
       "    </tr>\n",
       "    <tr>\n",
       "      <th>6</th>\n",
       "      <td>MP-CNN Lite</td>\n",
       "      <td>trecqa</td>\n",
       "      <td>MAP</td>\n",
       "      <td>0.7759</td>\n",
       "      <td>286404</td>\n",
       "      <td>test</td>\n",
       "    </tr>\n",
       "    <tr>\n",
       "      <th>18</th>\n",
       "      <td>MP-CNN</td>\n",
       "      <td>trecqa</td>\n",
       "      <td>MAP</td>\n",
       "      <td>0.6147</td>\n",
       "      <td>307476</td>\n",
       "      <td>test</td>\n",
       "    </tr>\n",
       "    <tr>\n",
       "      <th>22</th>\n",
       "      <td>MP-CNN Lite</td>\n",
       "      <td>trecqa</td>\n",
       "      <td>MAP</td>\n",
       "      <td>0.7242</td>\n",
       "      <td>307476</td>\n",
       "      <td>test</td>\n",
       "    </tr>\n",
       "    <tr>\n",
       "      <th>90</th>\n",
       "      <td>SM-CNN with Comp</td>\n",
       "      <td>trecqa</td>\n",
       "      <td>MAP</td>\n",
       "      <td>0.6754</td>\n",
       "      <td>307476</td>\n",
       "      <td>test</td>\n",
       "    </tr>\n",
       "    <tr>\n",
       "      <th>86</th>\n",
       "      <td>SM-CNN with Comp</td>\n",
       "      <td>trecqa</td>\n",
       "      <td>MAP</td>\n",
       "      <td>0.6696</td>\n",
       "      <td>353544</td>\n",
       "      <td>test</td>\n",
       "    </tr>\n",
       "    <tr>\n",
       "      <th>10</th>\n",
       "      <td>MP-CNN</td>\n",
       "      <td>trecqa</td>\n",
       "      <td>MAP</td>\n",
       "      <td>0.7878</td>\n",
       "      <td>353544</td>\n",
       "      <td>test</td>\n",
       "    </tr>\n",
       "    <tr>\n",
       "      <th>14</th>\n",
       "      <td>MP-CNN Lite</td>\n",
       "      <td>trecqa</td>\n",
       "      <td>MAP</td>\n",
       "      <td>0.7783</td>\n",
       "      <td>353544</td>\n",
       "      <td>test</td>\n",
       "    </tr>\n",
       "    <tr>\n",
       "      <th>94</th>\n",
       "      <td>SM-CNN with Comp</td>\n",
       "      <td>trecqa</td>\n",
       "      <td>MAP</td>\n",
       "      <td>0.6828</td>\n",
       "      <td>379302</td>\n",
       "      <td>test</td>\n",
       "    </tr>\n",
       "    <tr>\n",
       "      <th>30</th>\n",
       "      <td>MP-CNN Lite</td>\n",
       "      <td>trecqa</td>\n",
       "      <td>MAP</td>\n",
       "      <td>0.7739</td>\n",
       "      <td>379302</td>\n",
       "      <td>test</td>\n",
       "    </tr>\n",
       "    <tr>\n",
       "      <th>26</th>\n",
       "      <td>MP-CNN</td>\n",
       "      <td>trecqa</td>\n",
       "      <td>MAP</td>\n",
       "      <td>0.8158</td>\n",
       "      <td>379302</td>\n",
       "      <td>test</td>\n",
       "    </tr>\n",
       "    <tr>\n",
       "      <th>62</th>\n",
       "      <td>MP-CNN Lite</td>\n",
       "      <td>trecqa</td>\n",
       "      <td>MAP</td>\n",
       "      <td>0.7490</td>\n",
       "      <td>618272</td>\n",
       "      <td>test</td>\n",
       "    </tr>\n",
       "    <tr>\n",
       "      <th>110</th>\n",
       "      <td>SM-CNN with Comp</td>\n",
       "      <td>trecqa</td>\n",
       "      <td>MAP</td>\n",
       "      <td>0.6845</td>\n",
       "      <td>618272</td>\n",
       "      <td>test</td>\n",
       "    </tr>\n",
       "    <tr>\n",
       "      <th>58</th>\n",
       "      <td>MP-CNN</td>\n",
       "      <td>trecqa</td>\n",
       "      <td>MAP</td>\n",
       "      <td>0.7929</td>\n",
       "      <td>618272</td>\n",
       "      <td>test</td>\n",
       "    </tr>\n",
       "    <tr>\n",
       "      <th>66</th>\n",
       "      <td>MP-CNN</td>\n",
       "      <td>trecqa</td>\n",
       "      <td>MAP</td>\n",
       "      <td>0.8013</td>\n",
       "      <td>705142</td>\n",
       "      <td>test</td>\n",
       "    </tr>\n",
       "    <tr>\n",
       "      <th>114</th>\n",
       "      <td>SM-CNN with Comp</td>\n",
       "      <td>trecqa</td>\n",
       "      <td>MAP</td>\n",
       "      <td>0.6678</td>\n",
       "      <td>705142</td>\n",
       "      <td>test</td>\n",
       "    </tr>\n",
       "    <tr>\n",
       "      <th>70</th>\n",
       "      <td>MP-CNN Lite</td>\n",
       "      <td>trecqa</td>\n",
       "      <td>MAP</td>\n",
       "      <td>0.7794</td>\n",
       "      <td>705142</td>\n",
       "      <td>test</td>\n",
       "    </tr>\n",
       "    <tr>\n",
       "      <th>46</th>\n",
       "      <td>MP-CNN Lite</td>\n",
       "      <td>trecqa</td>\n",
       "      <td>MAP</td>\n",
       "      <td>0.7848</td>\n",
       "      <td>885665</td>\n",
       "      <td>test</td>\n",
       "    </tr>\n",
       "    <tr>\n",
       "      <th>42</th>\n",
       "      <td>MP-CNN</td>\n",
       "      <td>trecqa</td>\n",
       "      <td>MAP</td>\n",
       "      <td>0.8158</td>\n",
       "      <td>885665</td>\n",
       "      <td>test</td>\n",
       "    </tr>\n",
       "    <tr>\n",
       "      <th>102</th>\n",
       "      <td>SM-CNN with Comp</td>\n",
       "      <td>trecqa</td>\n",
       "      <td>MAP</td>\n",
       "      <td>0.6707</td>\n",
       "      <td>885665</td>\n",
       "      <td>test</td>\n",
       "    </tr>\n",
       "    <tr>\n",
       "      <th>54</th>\n",
       "      <td>MP-CNN Lite</td>\n",
       "      <td>trecqa</td>\n",
       "      <td>MAP</td>\n",
       "      <td>0.7903</td>\n",
       "      <td>999540</td>\n",
       "      <td>test</td>\n",
       "    </tr>\n",
       "    <tr>\n",
       "      <th>50</th>\n",
       "      <td>MP-CNN</td>\n",
       "      <td>trecqa</td>\n",
       "      <td>MAP</td>\n",
       "      <td>0.7714</td>\n",
       "      <td>999540</td>\n",
       "      <td>test</td>\n",
       "    </tr>\n",
       "    <tr>\n",
       "      <th>106</th>\n",
       "      <td>SM-CNN with Comp</td>\n",
       "      <td>trecqa</td>\n",
       "      <td>MAP</td>\n",
       "      <td>0.6834</td>\n",
       "      <td>999540</td>\n",
       "      <td>test</td>\n",
       "    </tr>\n",
       "  </tbody>\n",
       "</table>\n",
       "</div>"
      ],
      "text/plain": [
       "                 arch dataset metric_name  metric_val    seed split\n",
       "98   SM-CNN with Comp  trecqa         MAP      0.6749   15137  test\n",
       "38        MP-CNN Lite  trecqa         MAP      0.7691   15137  test\n",
       "34             MP-CNN  trecqa         MAP      0.8158   15137  test\n",
       "118  SM-CNN with Comp  trecqa         MAP      0.6449   60085  test\n",
       "78        MP-CNN Lite  trecqa         MAP      0.7757   60085  test\n",
       "74             MP-CNN  trecqa         MAP      0.8028   60085  test\n",
       "82   SM-CNN with Comp  trecqa         MAP      0.6723  286404  test\n",
       "2              MP-CNN  trecqa         MAP      0.6996  286404  test\n",
       "6         MP-CNN Lite  trecqa         MAP      0.7759  286404  test\n",
       "18             MP-CNN  trecqa         MAP      0.6147  307476  test\n",
       "22        MP-CNN Lite  trecqa         MAP      0.7242  307476  test\n",
       "90   SM-CNN with Comp  trecqa         MAP      0.6754  307476  test\n",
       "86   SM-CNN with Comp  trecqa         MAP      0.6696  353544  test\n",
       "10             MP-CNN  trecqa         MAP      0.7878  353544  test\n",
       "14        MP-CNN Lite  trecqa         MAP      0.7783  353544  test\n",
       "94   SM-CNN with Comp  trecqa         MAP      0.6828  379302  test\n",
       "30        MP-CNN Lite  trecqa         MAP      0.7739  379302  test\n",
       "26             MP-CNN  trecqa         MAP      0.8158  379302  test\n",
       "62        MP-CNN Lite  trecqa         MAP      0.7490  618272  test\n",
       "110  SM-CNN with Comp  trecqa         MAP      0.6845  618272  test\n",
       "58             MP-CNN  trecqa         MAP      0.7929  618272  test\n",
       "66             MP-CNN  trecqa         MAP      0.8013  705142  test\n",
       "114  SM-CNN with Comp  trecqa         MAP      0.6678  705142  test\n",
       "70        MP-CNN Lite  trecqa         MAP      0.7794  705142  test\n",
       "46        MP-CNN Lite  trecqa         MAP      0.7848  885665  test\n",
       "42             MP-CNN  trecqa         MAP      0.8158  885665  test\n",
       "102  SM-CNN with Comp  trecqa         MAP      0.6707  885665  test\n",
       "54        MP-CNN Lite  trecqa         MAP      0.7903  999540  test\n",
       "50             MP-CNN  trecqa         MAP      0.7714  999540  test\n",
       "106  SM-CNN with Comp  trecqa         MAP      0.6834  999540  test"
      ]
     },
     "execution_count": 169,
     "metadata": {},
     "output_type": "execute_result"
    }
   ],
   "source": [
    "trec_map_vs_archs_test.sort_values('seed')"
   ]
  },
  {
   "cell_type": "code",
   "execution_count": 170,
   "metadata": {},
   "outputs": [
    {
     "name": "stdout",
     "output_type": "stream",
     "text": [
      "Architecture: MP-CNN\n",
      "Median of MAP change compared with single baseline: 0.0000\n",
      "Mean of MAP change compared with single baseline: 0.0000\n",
      "Architecture: MP-CNN Lite\n",
      "Median of MAP change compared with single baseline: -0.0245\n",
      "Mean of MAP change compared with single baseline: -0.0017\n",
      "Architecture: SM-CNN with Comp\n",
      "Median of MAP change compared with single baseline: -0.1256\n",
      "Mean of MAP change compared with single baseline: -0.0992\n"
     ]
    }
   ],
   "source": [
    "compare_change_to_baseline(trec_map_vs_archs_test, 'MAP')"
   ]
  },
  {
   "cell_type": "code",
   "execution_count": 171,
   "metadata": {},
   "outputs": [
    {
     "name": "stdout",
     "output_type": "stream",
     "text": [
      "Architecture: MP-CNN\n",
      "Median of MRR change compared with single baseline: 0.0000\n",
      "Mean of MRR change compared with single baseline: 0.0000\n",
      "Architecture: MP-CNN Lite\n",
      "Median of MRR change compared with single baseline: 0.0388\n",
      "Mean of MRR change compared with single baseline: 0.0447\n",
      "Architecture: SM-CNN with Comp\n",
      "Median of MRR change compared with single baseline: -0.0356\n",
      "Mean of MRR change compared with single baseline: -0.0307\n"
     ]
    }
   ],
   "source": [
    "compare_change_to_baseline(trec_mrr_vs_archs_test, 'MRR')"
   ]
  },
  {
   "cell_type": "markdown",
   "metadata": {},
   "source": [
    "## WikiQA"
   ]
  },
  {
   "cell_type": "code",
   "execution_count": 172,
   "metadata": {},
   "outputs": [],
   "source": [
    "wikiqa_map_vs_archs_test = wikiqa[(wikiqa['metric_name'] == 'MAP') & (wikiqa['split'] == 'test')]\n",
    "wikiqa_mrr_vs_archs_test = wikiqa[(wikiqa['metric_name'] == 'MRR') & (wikiqa['split'] == 'test')]\n",
    "wikiqa_map_vs_archs_dev = wikiqa[(wikiqa['metric_name'] == 'MAP') & (wikiqa['split'] == 'dev')]\n",
    "wikiqa_mrr_vs_archs_dev = wikiqa[(wikiqa['metric_name'] == 'MRR') & (wikiqa['split'] == 'dev')]"
   ]
  },
  {
   "cell_type": "code",
   "execution_count": 173,
   "metadata": {},
   "outputs": [
    {
     "name": "stdout",
     "output_type": "stream",
     "text": [
      "MP-CNN: (0.5796, 0.6868)\n",
      "MP-CNN Lite: (0.6815, 0.7009)\n",
      "SM-CNN with Comp: (0.6449, 0.6577)\n"
     ]
    }
   ],
   "source": [
    "for arch in wikiqa_map_vs_archs_test['arch'].unique():\n",
    "    arr = wikiqa_map_vs_archs_test[wikiqa_map_vs_archs_test['arch'] == arch]['metric_val']\n",
    "    ci = sms.DescrStatsW(arr).tconfint_mean()\n",
    "    print(f'{arch}: ({ci[0]:.4f}, {ci[1]:.4f})')"
   ]
  },
  {
   "cell_type": "code",
   "execution_count": 174,
   "metadata": {},
   "outputs": [
    {
     "name": "stdout",
     "output_type": "stream",
     "text": [
      "MP-CNN: (0.5803, 0.6957)\n",
      "MP-CNN Lite: (0.6969, 0.7143)\n",
      "SM-CNN with Comp: (0.6609, 0.6730)\n"
     ]
    }
   ],
   "source": [
    "for arch in wikiqa_mrr_vs_archs_test['arch'].unique():\n",
    "    arr = wikiqa_mrr_vs_archs_test[wikiqa_mrr_vs_archs_test['arch'] == arch]['metric_val']\n",
    "    ci = sms.DescrStatsW(arr).tconfint_mean()\n",
    "    print(f'{arch}: ({ci[0]:.4f}, {ci[1]:.4f})')"
   ]
  },
  {
   "cell_type": "code",
   "execution_count": 175,
   "metadata": {},
   "outputs": [
    {
     "data": {
      "text/html": [
       "<div>\n",
       "<style scoped>\n",
       "    .dataframe tbody tr th:only-of-type {\n",
       "        vertical-align: middle;\n",
       "    }\n",
       "\n",
       "    .dataframe tbody tr th {\n",
       "        vertical-align: top;\n",
       "    }\n",
       "\n",
       "    .dataframe thead th {\n",
       "        text-align: right;\n",
       "    }\n",
       "</style>\n",
       "<table border=\"1\" class=\"dataframe\">\n",
       "  <thead>\n",
       "    <tr style=\"text-align: right;\">\n",
       "      <th></th>\n",
       "      <th>metric_val</th>\n",
       "      <th>seed</th>\n",
       "    </tr>\n",
       "    <tr>\n",
       "      <th>arch</th>\n",
       "      <th></th>\n",
       "      <th></th>\n",
       "    </tr>\n",
       "  </thead>\n",
       "  <tbody>\n",
       "    <tr>\n",
       "      <th>MP-CNN</th>\n",
       "      <td>0.63322</td>\n",
       "      <td>461056.7</td>\n",
       "    </tr>\n",
       "    <tr>\n",
       "      <th>MP-CNN Lite</th>\n",
       "      <td>0.69120</td>\n",
       "      <td>461056.7</td>\n",
       "    </tr>\n",
       "    <tr>\n",
       "      <th>SM-CNN with Comp</th>\n",
       "      <td>0.65126</td>\n",
       "      <td>461056.7</td>\n",
       "    </tr>\n",
       "  </tbody>\n",
       "</table>\n",
       "</div>"
      ],
      "text/plain": [
       "                  metric_val      seed\n",
       "arch                                  \n",
       "MP-CNN               0.63322  461056.7\n",
       "MP-CNN Lite          0.69120  461056.7\n",
       "SM-CNN with Comp     0.65126  461056.7"
      ]
     },
     "execution_count": 175,
     "metadata": {},
     "output_type": "execute_result"
    }
   ],
   "source": [
    "wikiqa_map_vs_archs_test.groupby('arch').mean()"
   ]
  },
  {
   "cell_type": "code",
   "execution_count": 176,
   "metadata": {},
   "outputs": [
    {
     "data": {
      "text/html": [
       "<div>\n",
       "<style scoped>\n",
       "    .dataframe tbody tr th:only-of-type {\n",
       "        vertical-align: middle;\n",
       "    }\n",
       "\n",
       "    .dataframe tbody tr th {\n",
       "        vertical-align: top;\n",
       "    }\n",
       "\n",
       "    .dataframe thead th {\n",
       "        text-align: right;\n",
       "    }\n",
       "</style>\n",
       "<table border=\"1\" class=\"dataframe\">\n",
       "  <thead>\n",
       "    <tr style=\"text-align: right;\">\n",
       "      <th></th>\n",
       "      <th>metric_val</th>\n",
       "      <th>seed</th>\n",
       "    </tr>\n",
       "    <tr>\n",
       "      <th>arch</th>\n",
       "      <th></th>\n",
       "      <th></th>\n",
       "    </tr>\n",
       "  </thead>\n",
       "  <tbody>\n",
       "    <tr>\n",
       "      <th>MP-CNN</th>\n",
       "      <td>0.63803</td>\n",
       "      <td>461056.7</td>\n",
       "    </tr>\n",
       "    <tr>\n",
       "      <th>MP-CNN Lite</th>\n",
       "      <td>0.70564</td>\n",
       "      <td>461056.7</td>\n",
       "    </tr>\n",
       "    <tr>\n",
       "      <th>SM-CNN with Comp</th>\n",
       "      <td>0.66692</td>\n",
       "      <td>461056.7</td>\n",
       "    </tr>\n",
       "  </tbody>\n",
       "</table>\n",
       "</div>"
      ],
      "text/plain": [
       "                  metric_val      seed\n",
       "arch                                  \n",
       "MP-CNN               0.63803  461056.7\n",
       "MP-CNN Lite          0.70564  461056.7\n",
       "SM-CNN with Comp     0.66692  461056.7"
      ]
     },
     "execution_count": 176,
     "metadata": {},
     "output_type": "execute_result"
    }
   ],
   "source": [
    "wikiqa_mrr_vs_archs_test.groupby('arch').mean()"
   ]
  },
  {
   "cell_type": "code",
   "execution_count": 177,
   "metadata": {},
   "outputs": [
    {
     "name": "stdout",
     "output_type": "stream",
     "text": [
      "Architecture: MP-CNN\n",
      "Median of MAP change compared with single baseline: 0.0000\n",
      "Mean of MAP change compared with single baseline: 0.0000\n",
      "Architecture: MP-CNN Lite\n",
      "Median of MAP change compared with single baseline: 0.0916\n",
      "Mean of MAP change compared with single baseline: 0.0580\n",
      "Architecture: SM-CNN with Comp\n",
      "Median of MAP change compared with single baseline: 0.0476\n",
      "Mean of MAP change compared with single baseline: 0.0180\n"
     ]
    }
   ],
   "source": [
    "compare_change_to_baseline(wikiqa_map_vs_archs_test, 'MAP')"
   ]
  },
  {
   "cell_type": "code",
   "execution_count": 178,
   "metadata": {},
   "outputs": [
    {
     "name": "stdout",
     "output_type": "stream",
     "text": [
      "Architecture: MP-CNN\n",
      "Median of MRR change compared with single baseline: 0.0000\n",
      "Mean of MRR change compared with single baseline: 0.0000\n",
      "Architecture: MP-CNN Lite\n",
      "Median of MRR change compared with single baseline: 0.1050\n",
      "Mean of MRR change compared with single baseline: 0.0676\n",
      "Architecture: SM-CNN with Comp\n",
      "Median of MRR change compared with single baseline: 0.0634\n",
      "Mean of MRR change compared with single baseline: 0.0289\n"
     ]
    }
   ],
   "source": [
    "compare_change_to_baseline(wikiqa_mrr_vs_archs_test, 'MRR')"
   ]
  },
  {
   "cell_type": "code",
   "execution_count": 179,
   "metadata": {},
   "outputs": [
    {
     "name": "stderr",
     "output_type": "stream",
     "text": [
      "/u3/z3tu/anaconda3/lib/python3.6/site-packages/seaborn/categorical.py:588: FutureWarning: remove_na is deprecated and is a private function. Do not use.\n",
      "  kde_data = remove_na(group_data)\n",
      "/u3/z3tu/anaconda3/lib/python3.6/site-packages/seaborn/categorical.py:816: FutureWarning: remove_na is deprecated and is a private function. Do not use.\n",
      "  violin_data = remove_na(group_data)\n"
     ]
    },
    {
     "data": {
      "text/plain": [
       "(array([ 0.4 ,  0.45,  0.5 ,  0.55,  0.6 ,  0.65,  0.7 ,  0.75,  0.8 ,  0.85]),\n",
       " <a list of 10 Text yticklabel objects>)"
      ]
     },
     "execution_count": 179,
     "metadata": {},
     "output_type": "execute_result"
    },
    {
     "data": {
      "image/png": "[encoded data removed]",
      "text/plain": [
       "<matplotlib.figure.Figure at 0x7fb3f690b4e0>"
      ]
     },
     "metadata": {},
     "output_type": "display_data"
    }
   ],
   "source": [
    "fig, ax = plt.subplots()\n",
    "fig.set_size_inches(11.7, 8.27)\n",
    "ax = sns.violinplot(x='arch', y='metric_val', data=wikiqa_map_vs_archs_test, order=archs, ax=ax)\n",
    "plt.xlabel('Architecture', fontsize=24)\n",
    "plt.ylabel('MAP', fontsize=24)\n",
    "plt.xticks(fontsize=22)\n",
    "plt.yticks(fontsize=22)\n",
    "# plt.ylim(0.6, 0.75)"
   ]
  },
  {
   "cell_type": "markdown",
   "metadata": {},
   "source": [
    "## SICK"
   ]
  },
  {
   "cell_type": "code",
   "execution_count": 180,
   "metadata": {},
   "outputs": [],
   "source": [
    "sick_pearson_vs_archs_test = sick[(sick['metric_name'] == 'pearson') & (sick['split'] == 'test')]\n",
    "sick_spearman_vs_archs_test = sick[(sick['metric_name'] == 'spearman') & (sick['split'] == 'test')]\n",
    "sick_pearson_vs_archs_dev = sick[(sick['metric_name'] == 'pearson') & (sick['split'] == 'dev')]\n",
    "sick_spearman_vs_archs_dev = sick[(sick['metric_name'] == 'spearman') & (sick['split'] == 'dev')]"
   ]
  },
  {
   "cell_type": "code",
   "execution_count": 181,
   "metadata": {},
   "outputs": [
    {
     "name": "stdout",
     "output_type": "stream",
     "text": [
      "MP-CNN: (0.8327, 0.8829)\n",
      "MP-CNN Lite: (0.8637, 0.8716)\n",
      "SM-CNN with Comp: (0.8211, 0.8290)\n"
     ]
    }
   ],
   "source": [
    "for arch in sick_pearson_vs_archs_test['arch'].unique():\n",
    "    arr = sick_pearson_vs_archs_test[sick_pearson_vs_archs_test['arch'] == arch]['metric_val']\n",
    "    ci = sms.DescrStatsW(arr).tconfint_mean()\n",
    "    print(f'{arch}: ({ci[0]:.4f}, {ci[1]:.4f})')"
   ]
  },
  {
   "cell_type": "code",
   "execution_count": 182,
   "metadata": {},
   "outputs": [
    {
     "name": "stdout",
     "output_type": "stream",
     "text": [
      "MP-CNN: (0.8025, 0.8126)\n",
      "MP-CNN Lite: (0.7995, 0.8102)\n",
      "SM-CNN with Comp: (0.7616, 0.7680)\n"
     ]
    }
   ],
   "source": [
    "for arch in sick_spearman_vs_archs_test['arch'].unique():\n",
    "    arr = sick_spearman_vs_archs_test[sick_spearman_vs_archs_test['arch'] == arch]['metric_val']\n",
    "    ci = sms.DescrStatsW(arr).tconfint_mean()\n",
    "    print(f'{arch}: ({ci[0]:.4f}, {ci[1]:.4f})')"
   ]
  },
  {
   "cell_type": "code",
   "execution_count": 183,
   "metadata": {},
   "outputs": [
    {
     "data": {
      "text/html": [
       "<div>\n",
       "<style scoped>\n",
       "    .dataframe tbody tr th:only-of-type {\n",
       "        vertical-align: middle;\n",
       "    }\n",
       "\n",
       "    .dataframe tbody tr th {\n",
       "        vertical-align: top;\n",
       "    }\n",
       "\n",
       "    .dataframe thead th {\n",
       "        text-align: right;\n",
       "    }\n",
       "</style>\n",
       "<table border=\"1\" class=\"dataframe\">\n",
       "  <thead>\n",
       "    <tr style=\"text-align: right;\">\n",
       "      <th></th>\n",
       "      <th>metric_val</th>\n",
       "      <th>seed</th>\n",
       "    </tr>\n",
       "    <tr>\n",
       "      <th>arch</th>\n",
       "      <th></th>\n",
       "      <th></th>\n",
       "    </tr>\n",
       "  </thead>\n",
       "  <tbody>\n",
       "    <tr>\n",
       "      <th>MP-CNN</th>\n",
       "      <td>0.857814</td>\n",
       "      <td>461056.7</td>\n",
       "    </tr>\n",
       "    <tr>\n",
       "      <th>MP-CNN Lite</th>\n",
       "      <td>0.867667</td>\n",
       "      <td>461056.7</td>\n",
       "    </tr>\n",
       "    <tr>\n",
       "      <th>SM-CNN with Comp</th>\n",
       "      <td>0.825047</td>\n",
       "      <td>461056.7</td>\n",
       "    </tr>\n",
       "  </tbody>\n",
       "</table>\n",
       "</div>"
      ],
      "text/plain": [
       "                  metric_val      seed\n",
       "arch                                  \n",
       "MP-CNN              0.857814  461056.7\n",
       "MP-CNN Lite         0.867667  461056.7\n",
       "SM-CNN with Comp    0.825047  461056.7"
      ]
     },
     "execution_count": 183,
     "metadata": {},
     "output_type": "execute_result"
    }
   ],
   "source": [
    "sick_pearson_vs_archs_test.groupby('arch').mean()"
   ]
  },
  {
   "cell_type": "code",
   "execution_count": 184,
   "metadata": {},
   "outputs": [
    {
     "data": {
      "text/html": [
       "<div>\n",
       "<style scoped>\n",
       "    .dataframe tbody tr th:only-of-type {\n",
       "        vertical-align: middle;\n",
       "    }\n",
       "\n",
       "    .dataframe tbody tr th {\n",
       "        vertical-align: top;\n",
       "    }\n",
       "\n",
       "    .dataframe thead th {\n",
       "        text-align: right;\n",
       "    }\n",
       "</style>\n",
       "<table border=\"1\" class=\"dataframe\">\n",
       "  <thead>\n",
       "    <tr style=\"text-align: right;\">\n",
       "      <th></th>\n",
       "      <th>metric_val</th>\n",
       "      <th>seed</th>\n",
       "    </tr>\n",
       "    <tr>\n",
       "      <th>arch</th>\n",
       "      <th></th>\n",
       "      <th></th>\n",
       "    </tr>\n",
       "  </thead>\n",
       "  <tbody>\n",
       "    <tr>\n",
       "      <th>MP-CNN</th>\n",
       "      <td>0.807525</td>\n",
       "      <td>461056.7</td>\n",
       "    </tr>\n",
       "    <tr>\n",
       "      <th>MP-CNN Lite</th>\n",
       "      <td>0.804877</td>\n",
       "      <td>461056.7</td>\n",
       "    </tr>\n",
       "    <tr>\n",
       "      <th>SM-CNN with Comp</th>\n",
       "      <td>0.764806</td>\n",
       "      <td>461056.7</td>\n",
       "    </tr>\n",
       "  </tbody>\n",
       "</table>\n",
       "</div>"
      ],
      "text/plain": [
       "                  metric_val      seed\n",
       "arch                                  \n",
       "MP-CNN              0.807525  461056.7\n",
       "MP-CNN Lite         0.804877  461056.7\n",
       "SM-CNN with Comp    0.764806  461056.7"
      ]
     },
     "execution_count": 184,
     "metadata": {},
     "output_type": "execute_result"
    }
   ],
   "source": [
    "sick_spearman_vs_archs_test.groupby('arch').mean()"
   ]
  },
  {
   "cell_type": "code",
   "execution_count": 185,
   "metadata": {},
   "outputs": [
    {
     "name": "stdout",
     "output_type": "stream",
     "text": [
      "Architecture: MP-CNN\n",
      "Median of pearson change compared with single baseline: 0.0000\n",
      "Mean of pearson change compared with single baseline: 0.0000\n",
      "Architecture: MP-CNN Lite\n",
      "Median of pearson change compared with single baseline: -0.0022\n",
      "Mean of pearson change compared with single baseline: 0.0099\n",
      "Architecture: SM-CNN with Comp\n",
      "Median of pearson change compared with single baseline: -0.0432\n",
      "Mean of pearson change compared with single baseline: -0.0328\n"
     ]
    }
   ],
   "source": [
    "compare_change_to_baseline(sick_pearson_vs_archs_test, 'pearson')"
   ]
  },
  {
   "cell_type": "code",
   "execution_count": 186,
   "metadata": {},
   "outputs": [
    {
     "name": "stdout",
     "output_type": "stream",
     "text": [
      "Architecture: MP-CNN\n",
      "Median of spearman change compared with single baseline: 0.0000\n",
      "Mean of spearman change compared with single baseline: 0.0000\n",
      "Architecture: MP-CNN Lite\n",
      "Median of spearman change compared with single baseline: -0.0055\n",
      "Mean of spearman change compared with single baseline: -0.0026\n",
      "Architecture: SM-CNN with Comp\n",
      "Median of spearman change compared with single baseline: -0.0432\n",
      "Mean of spearman change compared with single baseline: -0.0427\n"
     ]
    }
   ],
   "source": [
    "compare_change_to_baseline(sick_spearman_vs_archs_test, 'spearman')"
   ]
  },
  {
   "cell_type": "code",
   "execution_count": 187,
   "metadata": {},
   "outputs": [
    {
     "name": "stderr",
     "output_type": "stream",
     "text": [
      "/u3/z3tu/anaconda3/lib/python3.6/site-packages/seaborn/categorical.py:588: FutureWarning: remove_na is deprecated and is a private function. Do not use.\n",
      "  kde_data = remove_na(group_data)\n",
      "/u3/z3tu/anaconda3/lib/python3.6/site-packages/seaborn/categorical.py:816: FutureWarning: remove_na is deprecated and is a private function. Do not use.\n",
      "  violin_data = remove_na(group_data)\n"
     ]
    },
    {
     "data": {
      "text/plain": [
       "(array([ 0.7 ,  0.75,  0.8 ,  0.85,  0.9 ,  0.95]),\n",
       " <a list of 6 Text yticklabel objects>)"
      ]
     },
     "execution_count": 187,
     "metadata": {},
     "output_type": "execute_result"
    },
    {
     "data": {
      "image/png": "[encoded data removed]",
      "text/plain": [
       "<matplotlib.figure.Figure at 0x7fb3f6742f28>"
      ]
     },
     "metadata": {},
     "output_type": "display_data"
    }
   ],
   "source": [
    "fig, ax = plt.subplots()\n",
    "fig.set_size_inches(11.7, 8.27)\n",
    "ax = sns.violinplot(x='arch', y='metric_val', data=sick_pearson_vs_archs_test, order=archs, ax=ax)\n",
    "plt.xlabel('Architecture', fontsize=24)\n",
    "plt.ylabel('Pearson', fontsize=24)\n",
    "plt.xticks(fontsize=22)\n",
    "plt.yticks(fontsize=22)\n",
    "# plt.ylim(0.86, 0.88)"
   ]
  },
  {
   "cell_type": "code",
   "execution_count": 188,
   "metadata": {},
   "outputs": [
    {
     "name": "stderr",
     "output_type": "stream",
     "text": [
      "/u3/z3tu/anaconda3/lib/python3.6/site-packages/seaborn/categorical.py:588: FutureWarning: remove_na is deprecated and is a private function. Do not use.\n",
      "  kde_data = remove_na(group_data)\n",
      "/u3/z3tu/anaconda3/lib/python3.6/site-packages/seaborn/categorical.py:816: FutureWarning: remove_na is deprecated and is a private function. Do not use.\n",
      "  violin_data = remove_na(group_data)\n"
     ]
    },
    {
     "data": {
      "image/png": "[encoded data removed]",
      "text/plain": [
       "<matplotlib.figure.Figure at 0x7fb3f47d0c50>"
      ]
     },
     "metadata": {},
     "output_type": "display_data"
    }
   ],
   "source": [
    "fig, ax = plt.subplots()\n",
    "fig.set_size_inches(11.7, 8.27)\n",
    "title_size = 18\n",
    "axis_size = 16\n",
    "tick_size = 14\n",
    "\n",
    "ax = plt.subplot(321)\n",
    "sns.violinplot(x='arch', y='metric_val', data=trec_map_vs_archs_test, order=archs, ax=ax)\n",
    "plt.ylabel('MAP', fontsize=axis_size)\n",
    "plt.xlabel('Architecture', fontsize=axis_size)\n",
    "plt.xticks(fontsize=tick_size)\n",
    "plt.yticks(fontsize=tick_size)\n",
    "plt.title('TrecQA', fontsize=title_size)\n",
    "\n",
    "ax = plt.subplot(322)\n",
    "sns.violinplot(x='arch', y='metric_val', data=trec_mrr_vs_archs_test, order=archs, ax=ax)\n",
    "plt.ylabel('MRR', fontsize=18)\n",
    "plt.xlabel('Architecture', fontsize=axis_size)\n",
    "plt.xticks(fontsize=tick_size)\n",
    "plt.yticks(fontsize=tick_size)\n",
    "plt.title('TrecQA', fontsize=title_size)\n",
    "\n",
    "ax = plt.subplot(323)\n",
    "sns.violinplot(x='arch', y='metric_val', data=wikiqa_map_vs_archs_test, order=archs, ax=ax)\n",
    "plt.ylabel('MAP', fontsize=axis_size)\n",
    "plt.xlabel('Architecture', fontsize=axis_size)\n",
    "plt.xticks(fontsize=tick_size)\n",
    "plt.yticks(fontsize=tick_size)\n",
    "plt.title('WikiQA', fontsize=title_size)\n",
    "\n",
    "ax = plt.subplot(324)\n",
    "sns.violinplot(x='arch', y='metric_val', data=wikiqa_mrr_vs_archs_test, order=archs, ax=ax)\n",
    "plt.ylabel('MRR', fontsize=axis_size)\n",
    "plt.xlabel('Architecture', fontsize=axis_size)\n",
    "plt.xticks(fontsize=tick_size)\n",
    "plt.yticks(fontsize=tick_size)\n",
    "plt.title('WikiQA', fontsize=title_size)\n",
    "\n",
    "ax = plt.subplot(325)\n",
    "sns.violinplot(x='arch', y='metric_val', data=sick_pearson_vs_archs_test, order=archs, ax=ax)\n",
    "plt.ylabel(\"Pearson's r\", fontsize=axis_size)\n",
    "plt.xlabel('Architecture', fontsize=axis_size)\n",
    "plt.xticks(fontsize=tick_size)\n",
    "plt.yticks(fontsize=tick_size)\n",
    "plt.title('SICK', fontsize=title_size)\n",
    "\n",
    "ax = plt.subplot(326)\n",
    "sns.violinplot(x='arch', y='metric_val', data=sick_spearman_vs_archs_test, order=archs, ax=ax)\n",
    "plt.ylabel(\"Spearman's p\", fontsize=axis_size)\n",
    "plt.xlabel('Architecture', fontsize=axis_size)\n",
    "plt.xticks(fontsize=tick_size)\n",
    "plt.yticks(fontsize=tick_size)\n",
    "plt.title('SICK', fontsize=title_size)\n",
    "plt.tight_layout()\n",
    "\n",
    "plt.savefig('lite-model-violin.pdf')"
   ]
  },
  {
   "cell_type": "code",
   "execution_count": null,
   "metadata": {},
   "outputs": [],
   "source": []
  }
 ],
 "metadata": {
  "kernelspec": {
   "display_name": "Python 3",
   "language": "python",
   "name": "python3"
  },
  "language_info": {
   "codemirror_mode": {
    "name": "ipython",
    "version": 3
   },
   "file_extension": ".py",
   "mimetype": "text/x-python",
   "name": "python",
   "nbconvert_exporter": "python",
   "pygments_lexer": "ipython3",
   "version": "3.6.4"
  }
 },
 "nbformat": 4,
 "nbformat_minor": 2
}
