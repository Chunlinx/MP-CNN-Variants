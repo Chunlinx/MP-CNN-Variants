{
 "cells": [
  {
   "cell_type": "markdown",
   "metadata": {},
   "source": [
    "# Comp Architecture Experiment Results"
   ]
  },
  {
   "cell_type": "code",
   "execution_count": 1,
   "metadata": {},
   "outputs": [
    {
     "name": "stderr",
     "output_type": "stream",
     "text": [
      "/u3/z3tu/anaconda3/lib/python3.6/site-packages/statsmodels/compat/pandas.py:56: FutureWarning: The pandas.core.datetools module is deprecated and will be removed in a future version. Please use the pandas.tseries module instead.\n",
      "  from pandas.core import datetools\n"
     ]
    }
   ],
   "source": [
    "import json\n",
    "\n",
    "import numpy as np\n",
    "import pandas as pd\n",
    "import matplotlib.pyplot as plt\n",
    "import seaborn as sns\n",
    "import scipy.stats as st\n",
    "import statsmodels.stats.api as sms\n",
    "\n",
    "from db import conn"
   ]
  },
  {
   "cell_type": "code",
   "execution_count": 2,
   "metadata": {},
   "outputs": [],
   "source": [
    "%matplotlib inline"
   ]
  },
  {
   "cell_type": "code",
   "execution_count": 3,
   "metadata": {},
   "outputs": [],
   "source": [
    "sns.set_style(\"whitegrid\")"
   ]
  },
  {
   "cell_type": "code",
   "execution_count": 4,
   "metadata": {},
   "outputs": [],
   "source": [
    "cursor = conn.cursor()\n",
    "experiment_rows = [r for r in cursor.execute(\"\"\"\n",
    "    select g.name, args, dev_metric, test_metric from experiments e\n",
    "    join experiment_groups g on e.group_id=g.gid\n",
    "    where g.name=?\"\"\", ('mpcnn-v2-comp-dist-fix-params-and-seed',))]"
   ]
  },
  {
   "cell_type": "code",
   "execution_count": 5,
   "metadata": {},
   "outputs": [
    {
     "data": {
      "text/plain": [
       "120"
      ]
     },
     "execution_count": 5,
     "metadata": {},
     "output_type": "execute_result"
    }
   ],
   "source": [
    "len(experiment_rows)"
   ]
  },
  {
   "cell_type": "code",
   "execution_count": 6,
   "metadata": {},
   "outputs": [],
   "source": [
    "experiment_results = {\n",
    "    'trecqa': [],\n",
    "    'wikiqa': [],\n",
    "    'sick': []\n",
    "}\n",
    "\n",
    "for row in experiment_rows:\n",
    "    args = json.loads(row[1])\n",
    "    dev_metrics = json.loads(row[2])\n",
    "    test_metrics = json.loads(row[3])\n",
    "    dataset = args['dataset']\n",
    "    \n",
    "    if args['arch'] == 'mpcnn_comp_unit1_only':\n",
    "        arch = 'U1'\n",
    "    elif args['arch'] == 'mpcnn_comp_unit2_only':\n",
    "        arch = 'U2'\n",
    "    elif args['arch'] == 'mpcnn_comp_horiz_only':\n",
    "        arch = 'Horiz'\n",
    "    elif args['arch'] == 'mpcnn_comp_vert_only':\n",
    "        arch = 'Vert'\n",
    "    elif args['arch'] == 'mpcnn_comp_vert_holistic_only':\n",
    "        arch = 'VertHolistic'\n",
    "    elif args['arch'] == 'mpcnn_comp_cosine':\n",
    "        arch = 'Cosine'\n",
    "    elif args['arch'] == 'mpcnn_comp_euclidean':\n",
    "        arch = 'Euclidean'\n",
    "    elif args['arch'] == 'mpcnn_comp_abs_diff':\n",
    "        arch = 'AbsDiff'\n",
    "    else:\n",
    "        arch = 'mpcnn'\n",
    "    \n",
    "    res_base = {\n",
    "        'arch': arch,\n",
    "        'dataset': dataset,\n",
    "        'seed': args['seed']\n",
    "    }\n",
    "    \n",
    "    results = []\n",
    "    \n",
    "    if dataset in ('trecqa', 'wikiqa'):\n",
    "        results.append({**res_base, **{'split': 'dev', 'metric_name': 'MAP', 'metric_val': dev_metrics['map']}})\n",
    "        results.append({**res_base, **{'split': 'dev', 'metric_name': 'MRR', 'metric_val': dev_metrics['mrr']}})\n",
    "        results.append({**res_base, **{'split': 'test', 'metric_name': 'MAP', 'metric_val': test_metrics['map']}})\n",
    "        results.append({**res_base, **{'split': 'test', 'metric_name': 'MRR', 'metric_val': test_metrics['mrr']}})\n",
    "    elif dataset == 'sick':\n",
    "        results.append({**res_base, **{'split': 'dev', 'metric_name': 'pearson', 'metric_val': dev_metrics['pearson']}})\n",
    "        results.append({**res_base, **{'split': 'dev', 'metric_name': 'spearman', 'metric_val': dev_metrics['spearman']}})\n",
    "        results.append({**res_base, **{'split': 'test', 'metric_name': 'pearson', 'metric_val': test_metrics['pearson']}})\n",
    "        results.append({**res_base, **{'split': 'test', 'metric_name': 'spearman', 'metric_val': test_metrics['spearman']}})\n",
    "    \n",
    "    experiment_results[dataset].extend(results)"
   ]
  },
  {
   "cell_type": "code",
   "execution_count": 7,
   "metadata": {},
   "outputs": [],
   "source": [
    "trecqa = pd.DataFrame(experiment_results['trecqa'])\n",
    "wikiqa = pd.DataFrame(experiment_results['wikiqa'])\n",
    "sick = pd.DataFrame(experiment_results['sick'])"
   ]
  },
  {
   "cell_type": "code",
   "execution_count": 8,
   "metadata": {},
   "outputs": [
    {
     "data": {
      "text/html": [
       "<div>\n",
       "<style scoped>\n",
       "    .dataframe tbody tr th:only-of-type {\n",
       "        vertical-align: middle;\n",
       "    }\n",
       "\n",
       "    .dataframe tbody tr th {\n",
       "        vertical-align: top;\n",
       "    }\n",
       "\n",
       "    .dataframe thead th {\n",
       "        text-align: right;\n",
       "    }\n",
       "</style>\n",
       "<table border=\"1\" class=\"dataframe\">\n",
       "  <thead>\n",
       "    <tr style=\"text-align: right;\">\n",
       "      <th></th>\n",
       "      <th>arch</th>\n",
       "      <th>dataset</th>\n",
       "      <th>metric_name</th>\n",
       "      <th>metric_val</th>\n",
       "      <th>seed</th>\n",
       "      <th>split</th>\n",
       "    </tr>\n",
       "  </thead>\n",
       "  <tbody>\n",
       "    <tr>\n",
       "      <th>0</th>\n",
       "      <td>mpcnn</td>\n",
       "      <td>trecqa</td>\n",
       "      <td>MAP</td>\n",
       "      <td>0.8224</td>\n",
       "      <td>16630</td>\n",
       "      <td>dev</td>\n",
       "    </tr>\n",
       "    <tr>\n",
       "      <th>1</th>\n",
       "      <td>mpcnn</td>\n",
       "      <td>trecqa</td>\n",
       "      <td>MRR</td>\n",
       "      <td>0.8066</td>\n",
       "      <td>16630</td>\n",
       "      <td>dev</td>\n",
       "    </tr>\n",
       "    <tr>\n",
       "      <th>2</th>\n",
       "      <td>mpcnn</td>\n",
       "      <td>trecqa</td>\n",
       "      <td>MAP</td>\n",
       "      <td>0.8158</td>\n",
       "      <td>16630</td>\n",
       "      <td>test</td>\n",
       "    </tr>\n",
       "    <tr>\n",
       "      <th>3</th>\n",
       "      <td>mpcnn</td>\n",
       "      <td>trecqa</td>\n",
       "      <td>MRR</td>\n",
       "      <td>0.8062</td>\n",
       "      <td>16630</td>\n",
       "      <td>test</td>\n",
       "    </tr>\n",
       "    <tr>\n",
       "      <th>4</th>\n",
       "      <td>Cosine</td>\n",
       "      <td>trecqa</td>\n",
       "      <td>MAP</td>\n",
       "      <td>0.7905</td>\n",
       "      <td>16630</td>\n",
       "      <td>dev</td>\n",
       "    </tr>\n",
       "    <tr>\n",
       "      <th>5</th>\n",
       "      <td>Cosine</td>\n",
       "      <td>trecqa</td>\n",
       "      <td>MRR</td>\n",
       "      <td>0.8470</td>\n",
       "      <td>16630</td>\n",
       "      <td>dev</td>\n",
       "    </tr>\n",
       "    <tr>\n",
       "      <th>6</th>\n",
       "      <td>Cosine</td>\n",
       "      <td>trecqa</td>\n",
       "      <td>MAP</td>\n",
       "      <td>0.7561</td>\n",
       "      <td>16630</td>\n",
       "      <td>test</td>\n",
       "    </tr>\n",
       "    <tr>\n",
       "      <th>7</th>\n",
       "      <td>Cosine</td>\n",
       "      <td>trecqa</td>\n",
       "      <td>MRR</td>\n",
       "      <td>0.8127</td>\n",
       "      <td>16630</td>\n",
       "      <td>test</td>\n",
       "    </tr>\n",
       "  </tbody>\n",
       "</table>\n",
       "</div>"
      ],
      "text/plain": [
       "     arch dataset metric_name  metric_val   seed split\n",
       "0   mpcnn  trecqa         MAP      0.8224  16630   dev\n",
       "1   mpcnn  trecqa         MRR      0.8066  16630   dev\n",
       "2   mpcnn  trecqa         MAP      0.8158  16630  test\n",
       "3   mpcnn  trecqa         MRR      0.8062  16630  test\n",
       "4  Cosine  trecqa         MAP      0.7905  16630   dev\n",
       "5  Cosine  trecqa         MRR      0.8470  16630   dev\n",
       "6  Cosine  trecqa         MAP      0.7561  16630  test\n",
       "7  Cosine  trecqa         MRR      0.8127  16630  test"
      ]
     },
     "execution_count": 8,
     "metadata": {},
     "output_type": "execute_result"
    }
   ],
   "source": [
    "trecqa.head(8)"
   ]
  },
  {
   "cell_type": "code",
   "execution_count": 9,
   "metadata": {},
   "outputs": [],
   "source": [
    "archs = ['Cosine', 'Euclidean','AbsDiff']\n",
    "def compare_change_to_baseline(df, metric):\n",
    "    config_ids = df['seed'].unique()\n",
    "    for arch in archs:\n",
    "        diffs = []\n",
    "        for config_id in config_ids:\n",
    "            baseline = df[(df['seed'] == config_id) & (df['arch'] == 'mpcnn')].iloc[0]['metric_val']\n",
    "            conf_perf = df[(df['seed'] == config_id) & (df['arch'] == arch)].iloc[0]['metric_val']\n",
    "            diffs.append(conf_perf - baseline)\n",
    "\n",
    "        print(f'Architecture: {arch} comparison only')\n",
    "        print(f'Median of {metric} change compared with MP-CNN baseline: {np.median(diffs):.4f}')\n",
    "        print(f'Mean of {metric} change compared with MP-CNN baseline: {np.mean(diffs):.4f}')"
   ]
  },
  {
   "cell_type": "markdown",
   "metadata": {},
   "source": [
    "## TrecQA"
   ]
  },
  {
   "cell_type": "code",
   "execution_count": 10,
   "metadata": {},
   "outputs": [],
   "source": [
    "trec_map_vs_archs_test = trecqa[(trecqa['metric_name'] == 'MAP') & (trecqa['split'] == 'test')]\n",
    "trec_mrr_vs_archs_test = trecqa[(trecqa['metric_name'] == 'MRR') & (trecqa['split'] == 'test')]\n",
    "trec_map_vs_archs_dev = trecqa[(trecqa['metric_name'] == 'MAP') & (trecqa['split'] == 'dev')]\n",
    "trec_mrr_vs_archs_dev = trecqa[(trecqa['metric_name'] == 'MRR') & (trecqa['split'] == 'dev')]"
   ]
  },
  {
   "cell_type": "code",
   "execution_count": 11,
   "metadata": {},
   "outputs": [
    {
     "name": "stdout",
     "output_type": "stream",
     "text": [
      "mpcnn: (0.7752, 0.8020)\n",
      "Cosine: (0.7486, 0.7926)\n",
      "Euclidean: (0.7473, 0.7607)\n",
      "AbsDiff: (0.7686, 0.7875)\n"
     ]
    }
   ],
   "source": [
    "for arch in trec_map_vs_archs_test['arch'].unique():\n",
    "    arr = trec_map_vs_archs_test[trec_map_vs_archs_test['arch'] == arch]['metric_val']\n",
    "    ci = sms.DescrStatsW(arr).tconfint_mean()\n",
    "    print(f'{arch}: ({ci[0]:.4f}, {ci[1]:.4f})')"
   ]
  },
  {
   "cell_type": "code",
   "execution_count": 12,
   "metadata": {},
   "outputs": [
    {
     "name": "stdout",
     "output_type": "stream",
     "text": [
      "mpcnn: (0.8169, 0.8406)\n",
      "Cosine: (0.5808, 0.8735)\n",
      "Euclidean: (0.8111, 0.8367)\n",
      "AbsDiff: (0.8159, 0.8403)\n"
     ]
    }
   ],
   "source": [
    "for arch in trec_mrr_vs_archs_test['arch'].unique():\n",
    "    arr = trec_mrr_vs_archs_test[trec_mrr_vs_archs_test['arch'] == arch]['metric_val']\n",
    "    ci = sms.DescrStatsW(arr).tconfint_mean()\n",
    "    print(f'{arch}: ({ci[0]:.4f}, {ci[1]:.4f})')"
   ]
  },
  {
   "cell_type": "code",
   "execution_count": 13,
   "metadata": {},
   "outputs": [
    {
     "data": {
      "text/html": [
       "<div>\n",
       "<style scoped>\n",
       "    .dataframe tbody tr th:only-of-type {\n",
       "        vertical-align: middle;\n",
       "    }\n",
       "\n",
       "    .dataframe tbody tr th {\n",
       "        vertical-align: top;\n",
       "    }\n",
       "\n",
       "    .dataframe thead th {\n",
       "        text-align: right;\n",
       "    }\n",
       "</style>\n",
       "<table border=\"1\" class=\"dataframe\">\n",
       "  <thead>\n",
       "    <tr style=\"text-align: right;\">\n",
       "      <th></th>\n",
       "      <th>metric_val</th>\n",
       "      <th>seed</th>\n",
       "    </tr>\n",
       "    <tr>\n",
       "      <th>arch</th>\n",
       "      <th></th>\n",
       "      <th></th>\n",
       "    </tr>\n",
       "  </thead>\n",
       "  <tbody>\n",
       "    <tr>\n",
       "      <th>AbsDiff</th>\n",
       "      <td>0.77803</td>\n",
       "      <td>598413.8</td>\n",
       "    </tr>\n",
       "    <tr>\n",
       "      <th>Cosine</th>\n",
       "      <td>0.77059</td>\n",
       "      <td>598413.8</td>\n",
       "    </tr>\n",
       "    <tr>\n",
       "      <th>Euclidean</th>\n",
       "      <td>0.75399</td>\n",
       "      <td>598413.8</td>\n",
       "    </tr>\n",
       "    <tr>\n",
       "      <th>mpcnn</th>\n",
       "      <td>0.78859</td>\n",
       "      <td>598413.8</td>\n",
       "    </tr>\n",
       "  </tbody>\n",
       "</table>\n",
       "</div>"
      ],
      "text/plain": [
       "           metric_val      seed\n",
       "arch                           \n",
       "AbsDiff       0.77803  598413.8\n",
       "Cosine        0.77059  598413.8\n",
       "Euclidean     0.75399  598413.8\n",
       "mpcnn         0.78859  598413.8"
      ]
     },
     "execution_count": 13,
     "metadata": {},
     "output_type": "execute_result"
    }
   ],
   "source": [
    "trec_map_vs_archs_test.groupby('arch').mean()"
   ]
  },
  {
   "cell_type": "code",
   "execution_count": 14,
   "metadata": {},
   "outputs": [
    {
     "data": {
      "text/html": [
       "<div>\n",
       "<style scoped>\n",
       "    .dataframe tbody tr th:only-of-type {\n",
       "        vertical-align: middle;\n",
       "    }\n",
       "\n",
       "    .dataframe tbody tr th {\n",
       "        vertical-align: top;\n",
       "    }\n",
       "\n",
       "    .dataframe thead th {\n",
       "        text-align: right;\n",
       "    }\n",
       "</style>\n",
       "<table border=\"1\" class=\"dataframe\">\n",
       "  <thead>\n",
       "    <tr style=\"text-align: right;\">\n",
       "      <th></th>\n",
       "      <th>metric_val</th>\n",
       "      <th>seed</th>\n",
       "    </tr>\n",
       "    <tr>\n",
       "      <th>arch</th>\n",
       "      <th></th>\n",
       "      <th></th>\n",
       "    </tr>\n",
       "  </thead>\n",
       "  <tbody>\n",
       "    <tr>\n",
       "      <th>AbsDiff</th>\n",
       "      <td>0.828100</td>\n",
       "      <td>598413.8</td>\n",
       "    </tr>\n",
       "    <tr>\n",
       "      <th>Cosine</th>\n",
       "      <td>0.727167</td>\n",
       "      <td>598413.8</td>\n",
       "    </tr>\n",
       "    <tr>\n",
       "      <th>Euclidean</th>\n",
       "      <td>0.823920</td>\n",
       "      <td>598413.8</td>\n",
       "    </tr>\n",
       "    <tr>\n",
       "      <th>mpcnn</th>\n",
       "      <td>0.828720</td>\n",
       "      <td>598413.8</td>\n",
       "    </tr>\n",
       "  </tbody>\n",
       "</table>\n",
       "</div>"
      ],
      "text/plain": [
       "           metric_val      seed\n",
       "arch                           \n",
       "AbsDiff      0.828100  598413.8\n",
       "Cosine       0.727167  598413.8\n",
       "Euclidean    0.823920  598413.8\n",
       "mpcnn        0.828720  598413.8"
      ]
     },
     "execution_count": 14,
     "metadata": {},
     "output_type": "execute_result"
    }
   ],
   "source": [
    "trec_mrr_vs_archs_test.groupby('arch').mean()"
   ]
  },
  {
   "cell_type": "code",
   "execution_count": 15,
   "metadata": {},
   "outputs": [
    {
     "name": "stdout",
     "output_type": "stream",
     "text": [
      "Architecture: Cosine comparison only\n",
      "Median of MAP change compared with MP-CNN baseline: -0.0277\n",
      "Mean of MAP change compared with MP-CNN baseline: -0.0180\n",
      "Architecture: Euclidean comparison only\n",
      "Median of MAP change compared with MP-CNN baseline: -0.0386\n",
      "Mean of MAP change compared with MP-CNN baseline: -0.0346\n",
      "Architecture: AbsDiff comparison only\n",
      "Median of MAP change compared with MP-CNN baseline: -0.0116\n",
      "Mean of MAP change compared with MP-CNN baseline: -0.0106\n"
     ]
    }
   ],
   "source": [
    "compare_change_to_baseline(trec_map_vs_archs_test, 'MAP')"
   ]
  },
  {
   "cell_type": "code",
   "execution_count": 16,
   "metadata": {},
   "outputs": [
    {
     "name": "stdout",
     "output_type": "stream",
     "text": [
      "Architecture: Cosine comparison only\n",
      "Median of MRR change compared with MP-CNN baseline: -0.0099\n",
      "Mean of MRR change compared with MP-CNN baseline: -0.1016\n",
      "Architecture: Euclidean comparison only\n",
      "Median of MRR change compared with MP-CNN baseline: -0.0020\n",
      "Mean of MRR change compared with MP-CNN baseline: -0.0048\n",
      "Architecture: AbsDiff comparison only\n",
      "Median of MRR change compared with MP-CNN baseline: -0.0033\n",
      "Mean of MRR change compared with MP-CNN baseline: -0.0006\n"
     ]
    }
   ],
   "source": [
    "compare_change_to_baseline(trec_mrr_vs_archs_test, 'MRR')"
   ]
  },
  {
   "cell_type": "code",
   "execution_count": 17,
   "metadata": {},
   "outputs": [
    {
     "name": "stdout",
     "output_type": "stream",
     "text": [
      "Architecture: Cosine comparison only\n",
      "Median of MAP change compared with MP-CNN baseline: -0.0478\n",
      "Mean of MAP change compared with MP-CNN baseline: -0.0285\n",
      "Architecture: Euclidean comparison only\n",
      "Median of MAP change compared with MP-CNN baseline: -0.0511\n",
      "Mean of MAP change compared with MP-CNN baseline: -0.0524\n",
      "Architecture: AbsDiff comparison only\n",
      "Median of MAP change compared with MP-CNN baseline: -0.0169\n",
      "Mean of MAP change compared with MP-CNN baseline: -0.0181\n"
     ]
    }
   ],
   "source": [
    "compare_change_to_baseline(trec_map_vs_archs_dev, 'MAP')"
   ]
  },
  {
   "cell_type": "code",
   "execution_count": 18,
   "metadata": {},
   "outputs": [
    {
     "name": "stdout",
     "output_type": "stream",
     "text": [
      "Architecture: Cosine comparison only\n",
      "Median of MRR change compared with MP-CNN baseline: -0.0348\n",
      "Mean of MRR change compared with MP-CNN baseline: -0.1097\n",
      "Architecture: Euclidean comparison only\n",
      "Median of MRR change compared with MP-CNN baseline: -0.0566\n",
      "Mean of MRR change compared with MP-CNN baseline: -0.0407\n",
      "Architecture: AbsDiff comparison only\n",
      "Median of MRR change compared with MP-CNN baseline: -0.0040\n",
      "Mean of MRR change compared with MP-CNN baseline: -0.0031\n"
     ]
    }
   ],
   "source": [
    "compare_change_to_baseline(trec_mrr_vs_archs_dev, 'MRR')"
   ]
  },
  {
   "cell_type": "code",
   "execution_count": 19,
   "metadata": {},
   "outputs": [
    {
     "name": "stderr",
     "output_type": "stream",
     "text": [
      "/u3/z3tu/anaconda3/lib/python3.6/site-packages/seaborn/categorical.py:588: FutureWarning: remove_na is deprecated and is a private function. Do not use.\n",
      "  kde_data = remove_na(group_data)\n",
      "/u3/z3tu/anaconda3/lib/python3.6/site-packages/seaborn/categorical.py:816: FutureWarning: remove_na is deprecated and is a private function. Do not use.\n",
      "  violin_data = remove_na(group_data)\n"
     ]
    },
    {
     "data": {
      "text/plain": [
       "(array([ 0.675,  0.7  ,  0.725,  0.75 ,  0.775,  0.8  ,  0.825,  0.85 ,\n",
       "         0.875,  0.9  ]), <a list of 10 Text yticklabel objects>)"
      ]
     },
     "execution_count": 19,
     "metadata": {},
     "output_type": "execute_result"
    },
    {
     "data": {
      "image/png": "[encoded data removed]",
      "text/plain": [
       "<matplotlib.figure.Figure at 0x7f7c3058be48>"
      ]
     },
     "metadata": {},
     "output_type": "display_data"
    }
   ],
   "source": [
    "fig, ax = plt.subplots()\n",
    "fig.set_size_inches(11.7, 8.27)\n",
    "ax = sns.violinplot(x='arch', y='metric_val', data=trec_map_vs_archs_test, order=archs, ax=ax)\n",
    "plt.xlabel('Architecture', fontsize=24)\n",
    "plt.ylabel('MAP', fontsize=24)\n",
    "plt.xticks(fontsize=22)\n",
    "plt.yticks(fontsize=22)\n",
    "# plt.ylim(0.75, 0.81)"
   ]
  },
  {
   "cell_type": "code",
   "execution_count": 20,
   "metadata": {},
   "outputs": [
    {
     "name": "stderr",
     "output_type": "stream",
     "text": [
      "/u3/z3tu/anaconda3/lib/python3.6/site-packages/seaborn/categorical.py:588: FutureWarning: remove_na is deprecated and is a private function. Do not use.\n",
      "  kde_data = remove_na(group_data)\n",
      "/u3/z3tu/anaconda3/lib/python3.6/site-packages/seaborn/categorical.py:816: FutureWarning: remove_na is deprecated and is a private function. Do not use.\n",
      "  violin_data = remove_na(group_data)\n"
     ]
    },
    {
     "data": {
      "text/plain": [
       "(array([ 0. ,  0.2,  0.4,  0.6,  0.8,  1. ,  1.2]),\n",
       " <a list of 7 Text yticklabel objects>)"
      ]
     },
     "execution_count": 20,
     "metadata": {},
     "output_type": "execute_result"
    },
    {
     "data": {
      "image/png": "[encoded data removed]",
      "text/plain": [
       "<matplotlib.figure.Figure at 0x7f7c3058bb70>"
      ]
     },
     "metadata": {},
     "output_type": "display_data"
    }
   ],
   "source": [
    "fig, ax = plt.subplots()\n",
    "fig.set_size_inches(11.7, 8.27)\n",
    "ax = sns.violinplot(x='arch', y='metric_val', data=trec_mrr_vs_archs_test, order=archs, ax=ax)\n",
    "plt.xlabel('Architecture', fontsize=24)\n",
    "plt.ylabel('MRR', fontsize=24)\n",
    "plt.xticks(fontsize=22)\n",
    "plt.yticks(fontsize=22)"
   ]
  },
  {
   "cell_type": "markdown",
   "metadata": {},
   "source": [
    "## WikiQA"
   ]
  },
  {
   "cell_type": "code",
   "execution_count": 21,
   "metadata": {},
   "outputs": [],
   "source": [
    "wikiqa_map_vs_archs_test = wikiqa[(wikiqa['metric_name'] == 'MAP') & (wikiqa['split'] == 'test')]\n",
    "wikiqa_mrr_vs_archs_test = wikiqa[(wikiqa['metric_name'] == 'MRR') & (wikiqa['split'] == 'test')]\n",
    "wikiqa_map_vs_archs_dev = wikiqa[(wikiqa['metric_name'] == 'MAP') & (wikiqa['split'] == 'dev')]\n",
    "wikiqa_mrr_vs_archs_dev = wikiqa[(wikiqa['metric_name'] == 'MRR') & (wikiqa['split'] == 'dev')]"
   ]
  },
  {
   "cell_type": "code",
   "execution_count": 22,
   "metadata": {},
   "outputs": [
    {
     "name": "stdout",
     "output_type": "stream",
     "text": [
      "mpcnn: (0.6538, 0.7239)\n",
      "Cosine: (0.6870, 0.6990)\n",
      "Euclidean: (0.6865, 0.6939)\n",
      "AbsDiff: (0.6220, 0.7272)\n"
     ]
    }
   ],
   "source": [
    "for arch in wikiqa_map_vs_archs_test['arch'].unique():\n",
    "    arr = wikiqa_map_vs_archs_test[wikiqa_map_vs_archs_test['arch'] == arch]['metric_val']\n",
    "    ci = sms.DescrStatsW(arr).tconfint_mean()\n",
    "    print(f'{arch}: ({ci[0]:.4f}, {ci[1]:.4f})')"
   ]
  },
  {
   "cell_type": "code",
   "execution_count": 23,
   "metadata": {},
   "outputs": [
    {
     "name": "stdout",
     "output_type": "stream",
     "text": [
      "mpcnn: (0.6607, 0.7391)\n",
      "Cosine: (0.6961, 0.7101)\n",
      "Euclidean: (0.6993, 0.7080)\n",
      "AbsDiff: (0.6320, 0.7414)\n"
     ]
    }
   ],
   "source": [
    "for arch in wikiqa_mrr_vs_archs_test['arch'].unique():\n",
    "    arr = wikiqa_mrr_vs_archs_test[wikiqa_mrr_vs_archs_test['arch'] == arch]['metric_val']\n",
    "    ci = sms.DescrStatsW(arr).tconfint_mean()\n",
    "    print(f'{arch}: ({ci[0]:.4f}, {ci[1]:.4f})')"
   ]
  },
  {
   "cell_type": "code",
   "execution_count": 24,
   "metadata": {},
   "outputs": [
    {
     "data": {
      "text/html": [
       "<div>\n",
       "<style scoped>\n",
       "    .dataframe tbody tr th:only-of-type {\n",
       "        vertical-align: middle;\n",
       "    }\n",
       "\n",
       "    .dataframe tbody tr th {\n",
       "        vertical-align: top;\n",
       "    }\n",
       "\n",
       "    .dataframe thead th {\n",
       "        text-align: right;\n",
       "    }\n",
       "</style>\n",
       "<table border=\"1\" class=\"dataframe\">\n",
       "  <thead>\n",
       "    <tr style=\"text-align: right;\">\n",
       "      <th></th>\n",
       "      <th>metric_val</th>\n",
       "      <th>seed</th>\n",
       "    </tr>\n",
       "    <tr>\n",
       "      <th>arch</th>\n",
       "      <th></th>\n",
       "      <th></th>\n",
       "    </tr>\n",
       "  </thead>\n",
       "  <tbody>\n",
       "    <tr>\n",
       "      <th>AbsDiff</th>\n",
       "      <td>0.67457</td>\n",
       "      <td>598413.8</td>\n",
       "    </tr>\n",
       "    <tr>\n",
       "      <th>Cosine</th>\n",
       "      <td>0.69298</td>\n",
       "      <td>598413.8</td>\n",
       "    </tr>\n",
       "    <tr>\n",
       "      <th>Euclidean</th>\n",
       "      <td>0.69021</td>\n",
       "      <td>598413.8</td>\n",
       "    </tr>\n",
       "    <tr>\n",
       "      <th>mpcnn</th>\n",
       "      <td>0.68884</td>\n",
       "      <td>598413.8</td>\n",
       "    </tr>\n",
       "  </tbody>\n",
       "</table>\n",
       "</div>"
      ],
      "text/plain": [
       "           metric_val      seed\n",
       "arch                           \n",
       "AbsDiff       0.67457  598413.8\n",
       "Cosine        0.69298  598413.8\n",
       "Euclidean     0.69021  598413.8\n",
       "mpcnn         0.68884  598413.8"
      ]
     },
     "execution_count": 24,
     "metadata": {},
     "output_type": "execute_result"
    }
   ],
   "source": [
    "wikiqa_map_vs_archs_test.groupby('arch').mean()"
   ]
  },
  {
   "cell_type": "code",
   "execution_count": 25,
   "metadata": {},
   "outputs": [
    {
     "data": {
      "text/html": [
       "<div>\n",
       "<style scoped>\n",
       "    .dataframe tbody tr th:only-of-type {\n",
       "        vertical-align: middle;\n",
       "    }\n",
       "\n",
       "    .dataframe tbody tr th {\n",
       "        vertical-align: top;\n",
       "    }\n",
       "\n",
       "    .dataframe thead th {\n",
       "        text-align: right;\n",
       "    }\n",
       "</style>\n",
       "<table border=\"1\" class=\"dataframe\">\n",
       "  <thead>\n",
       "    <tr style=\"text-align: right;\">\n",
       "      <th></th>\n",
       "      <th>metric_val</th>\n",
       "      <th>seed</th>\n",
       "    </tr>\n",
       "    <tr>\n",
       "      <th>arch</th>\n",
       "      <th></th>\n",
       "      <th></th>\n",
       "    </tr>\n",
       "  </thead>\n",
       "  <tbody>\n",
       "    <tr>\n",
       "      <th>AbsDiff</th>\n",
       "      <td>0.68669</td>\n",
       "      <td>598413.8</td>\n",
       "    </tr>\n",
       "    <tr>\n",
       "      <th>Cosine</th>\n",
       "      <td>0.70312</td>\n",
       "      <td>598413.8</td>\n",
       "    </tr>\n",
       "    <tr>\n",
       "      <th>Euclidean</th>\n",
       "      <td>0.70365</td>\n",
       "      <td>598413.8</td>\n",
       "    </tr>\n",
       "    <tr>\n",
       "      <th>mpcnn</th>\n",
       "      <td>0.69994</td>\n",
       "      <td>598413.8</td>\n",
       "    </tr>\n",
       "  </tbody>\n",
       "</table>\n",
       "</div>"
      ],
      "text/plain": [
       "           metric_val      seed\n",
       "arch                           \n",
       "AbsDiff       0.68669  598413.8\n",
       "Cosine        0.70312  598413.8\n",
       "Euclidean     0.70365  598413.8\n",
       "mpcnn         0.69994  598413.8"
      ]
     },
     "execution_count": 25,
     "metadata": {},
     "output_type": "execute_result"
    }
   ],
   "source": [
    "wikiqa_mrr_vs_archs_test.groupby('arch').mean()"
   ]
  },
  {
   "cell_type": "code",
   "execution_count": 26,
   "metadata": {},
   "outputs": [
    {
     "name": "stdout",
     "output_type": "stream",
     "text": [
      "Architecture: Cosine comparison only\n",
      "Median of MAP change compared with MP-CNN baseline: -0.0177\n",
      "Mean of MAP change compared with MP-CNN baseline: 0.0041\n",
      "Architecture: Euclidean comparison only\n",
      "Median of MAP change compared with MP-CNN baseline: -0.0212\n",
      "Mean of MAP change compared with MP-CNN baseline: 0.0014\n",
      "Architecture: AbsDiff comparison only\n",
      "Median of MAP change compared with MP-CNN baseline: -0.0136\n",
      "Mean of MAP change compared with MP-CNN baseline: -0.0143\n"
     ]
    }
   ],
   "source": [
    "compare_change_to_baseline(wikiqa_map_vs_archs_test, 'MAP')"
   ]
  },
  {
   "cell_type": "code",
   "execution_count": 27,
   "metadata": {},
   "outputs": [
    {
     "name": "stdout",
     "output_type": "stream",
     "text": [
      "Architecture: Cosine comparison only\n",
      "Median of MRR change compared with MP-CNN baseline: -0.0246\n",
      "Mean of MRR change compared with MP-CNN baseline: 0.0032\n",
      "Architecture: Euclidean comparison only\n",
      "Median of MRR change compared with MP-CNN baseline: -0.0213\n",
      "Mean of MRR change compared with MP-CNN baseline: 0.0037\n",
      "Architecture: AbsDiff comparison only\n",
      "Median of MRR change compared with MP-CNN baseline: -0.0151\n",
      "Mean of MRR change compared with MP-CNN baseline: -0.0132\n"
     ]
    }
   ],
   "source": [
    "compare_change_to_baseline(wikiqa_mrr_vs_archs_test, 'MRR')"
   ]
  },
  {
   "cell_type": "code",
   "execution_count": 28,
   "metadata": {},
   "outputs": [
    {
     "name": "stdout",
     "output_type": "stream",
     "text": [
      "Architecture: Cosine comparison only\n",
      "Median of MAP change compared with MP-CNN baseline: -0.0089\n",
      "Mean of MAP change compared with MP-CNN baseline: 0.0054\n",
      "Architecture: Euclidean comparison only\n",
      "Median of MAP change compared with MP-CNN baseline: -0.0073\n",
      "Mean of MAP change compared with MP-CNN baseline: 0.0098\n",
      "Architecture: AbsDiff comparison only\n",
      "Median of MAP change compared with MP-CNN baseline: -0.0030\n",
      "Mean of MAP change compared with MP-CNN baseline: -0.0145\n"
     ]
    }
   ],
   "source": [
    "compare_change_to_baseline(wikiqa_map_vs_archs_dev, 'MAP')"
   ]
  },
  {
   "cell_type": "code",
   "execution_count": 29,
   "metadata": {},
   "outputs": [
    {
     "name": "stdout",
     "output_type": "stream",
     "text": [
      "Architecture: Cosine comparison only\n",
      "Median of MRR change compared with MP-CNN baseline: -0.0105\n",
      "Mean of MRR change compared with MP-CNN baseline: 0.0050\n",
      "Architecture: Euclidean comparison only\n",
      "Median of MRR change compared with MP-CNN baseline: -0.0070\n",
      "Mean of MRR change compared with MP-CNN baseline: 0.0101\n",
      "Architecture: AbsDiff comparison only\n",
      "Median of MRR change compared with MP-CNN baseline: -0.0046\n",
      "Mean of MRR change compared with MP-CNN baseline: -0.0151\n"
     ]
    }
   ],
   "source": [
    "compare_change_to_baseline(wikiqa_mrr_vs_archs_dev, 'MRR')"
   ]
  },
  {
   "cell_type": "code",
   "execution_count": 30,
   "metadata": {},
   "outputs": [
    {
     "name": "stderr",
     "output_type": "stream",
     "text": [
      "/u3/z3tu/anaconda3/lib/python3.6/site-packages/seaborn/categorical.py:588: FutureWarning: remove_na is deprecated and is a private function. Do not use.\n",
      "  kde_data = remove_na(group_data)\n",
      "/u3/z3tu/anaconda3/lib/python3.6/site-packages/seaborn/categorical.py:816: FutureWarning: remove_na is deprecated and is a private function. Do not use.\n",
      "  violin_data = remove_na(group_data)\n"
     ]
    },
    {
     "data": {
      "text/plain": [
       "(array([ 0.3,  0.4,  0.5,  0.6,  0.7,  0.8,  0.9]),\n",
       " <a list of 7 Text yticklabel objects>)"
      ]
     },
     "execution_count": 30,
     "metadata": {},
     "output_type": "execute_result"
    },
    {
     "data": {
      "image/png": "[encoded data removed]",
      "text/plain": [
       "<matplotlib.figure.Figure at 0x7f7c25991a20>"
      ]
     },
     "metadata": {},
     "output_type": "display_data"
    }
   ],
   "source": [
    "fig, ax = plt.subplots()\n",
    "fig.set_size_inches(11.7, 8.27)\n",
    "ax = sns.violinplot(x='arch', y='metric_val', data=wikiqa_map_vs_archs_test, order=archs, ax=ax)\n",
    "plt.xlabel('Architecture', fontsize=24)\n",
    "plt.ylabel('MAP', fontsize=24)\n",
    "plt.xticks(fontsize=22)\n",
    "plt.yticks(fontsize=22)\n",
    "#plt.ylim(0.6, 0.75)"
   ]
  },
  {
   "cell_type": "markdown",
   "metadata": {},
   "source": [
    "## SICK"
   ]
  },
  {
   "cell_type": "code",
   "execution_count": 31,
   "metadata": {},
   "outputs": [],
   "source": [
    "sick_pearson_vs_archs_test = sick[(sick['metric_name'] == 'pearson') & (sick['split'] == 'test')]\n",
    "sick_spearman_vs_archs_test = sick[(sick['metric_name'] == 'spearman') & (sick['split'] == 'test')]\n",
    "sick_pearson_vs_archs_dev = sick[(sick['metric_name'] == 'pearson') & (sick['split'] == 'dev')]\n",
    "sick_spearman_vs_archs_dev = sick[(sick['metric_name'] == 'spearman') & (sick['split'] == 'dev')]"
   ]
  },
  {
   "cell_type": "code",
   "execution_count": 32,
   "metadata": {},
   "outputs": [
    {
     "name": "stdout",
     "output_type": "stream",
     "text": [
      "mpcnn: (0.8500, 0.8746)\n",
      "Cosine: (0.8351, 0.8406)\n",
      "Euclidean: (0.8552, 0.8591)\n",
      "AbsDiff: (0.8686, 0.8730)\n"
     ]
    }
   ],
   "source": [
    "for arch in sick_pearson_vs_archs_test['arch'].unique():\n",
    "    arr = sick_pearson_vs_archs_test[sick_pearson_vs_archs_test['arch'] == arch]['metric_val']\n",
    "    ci = sms.DescrStatsW(arr).tconfint_mean()\n",
    "    print(f'{arch}: ({ci[0]:.4f}, {ci[1]:.4f})')"
   ]
  },
  {
   "cell_type": "code",
   "execution_count": 33,
   "metadata": {},
   "outputs": [
    {
     "name": "stdout",
     "output_type": "stream",
     "text": [
      "mpcnn: (0.8030, 0.8109)\n",
      "Cosine: (0.7614, 0.7689)\n",
      "Euclidean: (0.7943, 0.7996)\n",
      "AbsDiff: (0.8038, 0.8113)\n"
     ]
    }
   ],
   "source": [
    "for arch in sick_spearman_vs_archs_test['arch'].unique():\n",
    "    arr = sick_spearman_vs_archs_test[sick_spearman_vs_archs_test['arch'] == arch]['metric_val']\n",
    "    ci = sms.DescrStatsW(arr).tconfint_mean()\n",
    "    print(f'{arch}: ({ci[0]:.4f}, {ci[1]:.4f})')"
   ]
  },
  {
   "cell_type": "code",
   "execution_count": 34,
   "metadata": {},
   "outputs": [
    {
     "data": {
      "text/html": [
       "<div>\n",
       "<style scoped>\n",
       "    .dataframe tbody tr th:only-of-type {\n",
       "        vertical-align: middle;\n",
       "    }\n",
       "\n",
       "    .dataframe tbody tr th {\n",
       "        vertical-align: top;\n",
       "    }\n",
       "\n",
       "    .dataframe thead th {\n",
       "        text-align: right;\n",
       "    }\n",
       "</style>\n",
       "<table border=\"1\" class=\"dataframe\">\n",
       "  <thead>\n",
       "    <tr style=\"text-align: right;\">\n",
       "      <th></th>\n",
       "      <th>metric_val</th>\n",
       "      <th>seed</th>\n",
       "    </tr>\n",
       "    <tr>\n",
       "      <th>arch</th>\n",
       "      <th></th>\n",
       "      <th></th>\n",
       "    </tr>\n",
       "  </thead>\n",
       "  <tbody>\n",
       "    <tr>\n",
       "      <th>AbsDiff</th>\n",
       "      <td>0.870824</td>\n",
       "      <td>598413.8</td>\n",
       "    </tr>\n",
       "    <tr>\n",
       "      <th>Cosine</th>\n",
       "      <td>0.837855</td>\n",
       "      <td>598413.8</td>\n",
       "    </tr>\n",
       "    <tr>\n",
       "      <th>Euclidean</th>\n",
       "      <td>0.857150</td>\n",
       "      <td>598413.8</td>\n",
       "    </tr>\n",
       "    <tr>\n",
       "      <th>mpcnn</th>\n",
       "      <td>0.862279</td>\n",
       "      <td>598413.8</td>\n",
       "    </tr>\n",
       "  </tbody>\n",
       "</table>\n",
       "</div>"
      ],
      "text/plain": [
       "           metric_val      seed\n",
       "arch                           \n",
       "AbsDiff      0.870824  598413.8\n",
       "Cosine       0.837855  598413.8\n",
       "Euclidean    0.857150  598413.8\n",
       "mpcnn        0.862279  598413.8"
      ]
     },
     "execution_count": 34,
     "metadata": {},
     "output_type": "execute_result"
    }
   ],
   "source": [
    "sick_pearson_vs_archs_test.groupby('arch').mean()"
   ]
  },
  {
   "cell_type": "code",
   "execution_count": 35,
   "metadata": {},
   "outputs": [
    {
     "data": {
      "text/html": [
       "<div>\n",
       "<style scoped>\n",
       "    .dataframe tbody tr th:only-of-type {\n",
       "        vertical-align: middle;\n",
       "    }\n",
       "\n",
       "    .dataframe tbody tr th {\n",
       "        vertical-align: top;\n",
       "    }\n",
       "\n",
       "    .dataframe thead th {\n",
       "        text-align: right;\n",
       "    }\n",
       "</style>\n",
       "<table border=\"1\" class=\"dataframe\">\n",
       "  <thead>\n",
       "    <tr style=\"text-align: right;\">\n",
       "      <th></th>\n",
       "      <th>metric_val</th>\n",
       "      <th>seed</th>\n",
       "    </tr>\n",
       "    <tr>\n",
       "      <th>arch</th>\n",
       "      <th></th>\n",
       "      <th></th>\n",
       "    </tr>\n",
       "  </thead>\n",
       "  <tbody>\n",
       "    <tr>\n",
       "      <th>AbsDiff</th>\n",
       "      <td>0.807545</td>\n",
       "      <td>598413.8</td>\n",
       "    </tr>\n",
       "    <tr>\n",
       "      <th>Cosine</th>\n",
       "      <td>0.765165</td>\n",
       "      <td>598413.8</td>\n",
       "    </tr>\n",
       "    <tr>\n",
       "      <th>Euclidean</th>\n",
       "      <td>0.796956</td>\n",
       "      <td>598413.8</td>\n",
       "    </tr>\n",
       "    <tr>\n",
       "      <th>mpcnn</th>\n",
       "      <td>0.806939</td>\n",
       "      <td>598413.8</td>\n",
       "    </tr>\n",
       "  </tbody>\n",
       "</table>\n",
       "</div>"
      ],
      "text/plain": [
       "           metric_val      seed\n",
       "arch                           \n",
       "AbsDiff      0.807545  598413.8\n",
       "Cosine       0.765165  598413.8\n",
       "Euclidean    0.796956  598413.8\n",
       "mpcnn        0.806939  598413.8"
      ]
     },
     "execution_count": 35,
     "metadata": {},
     "output_type": "execute_result"
    }
   ],
   "source": [
    "sick_spearman_vs_archs_test.groupby('arch').mean()"
   ]
  },
  {
   "cell_type": "code",
   "execution_count": 36,
   "metadata": {},
   "outputs": [
    {
     "name": "stdout",
     "output_type": "stream",
     "text": [
      "Architecture: Cosine comparison only\n",
      "Median of pearson change compared with MP-CNN baseline: -0.0302\n",
      "Mean of pearson change compared with MP-CNN baseline: -0.0244\n",
      "Architecture: Euclidean comparison only\n",
      "Median of pearson change compared with MP-CNN baseline: -0.0095\n",
      "Mean of pearson change compared with MP-CNN baseline: -0.0051\n",
      "Architecture: AbsDiff comparison only\n",
      "Median of pearson change compared with MP-CNN baseline: 0.0034\n",
      "Mean of pearson change compared with MP-CNN baseline: 0.0085\n"
     ]
    }
   ],
   "source": [
    "compare_change_to_baseline(sick_pearson_vs_archs_test, 'pearson')"
   ]
  },
  {
   "cell_type": "code",
   "execution_count": 37,
   "metadata": {},
   "outputs": [
    {
     "name": "stdout",
     "output_type": "stream",
     "text": [
      "Architecture: Cosine comparison only\n",
      "Median of spearman change compared with MP-CNN baseline: -0.0407\n",
      "Mean of spearman change compared with MP-CNN baseline: -0.0418\n",
      "Architecture: Euclidean comparison only\n",
      "Median of spearman change compared with MP-CNN baseline: -0.0105\n",
      "Mean of spearman change compared with MP-CNN baseline: -0.0100\n",
      "Architecture: AbsDiff comparison only\n",
      "Median of spearman change compared with MP-CNN baseline: 0.0007\n",
      "Mean of spearman change compared with MP-CNN baseline: 0.0006\n"
     ]
    }
   ],
   "source": [
    "compare_change_to_baseline(sick_spearman_vs_archs_test, 'spearman')"
   ]
  },
  {
   "cell_type": "code",
   "execution_count": 38,
   "metadata": {},
   "outputs": [
    {
     "name": "stdout",
     "output_type": "stream",
     "text": [
      "Architecture: Cosine comparison only\n",
      "Median of pearson change compared with MP-CNN baseline: -0.0249\n",
      "Mean of pearson change compared with MP-CNN baseline: -0.0202\n",
      "Architecture: Euclidean comparison only\n",
      "Median of pearson change compared with MP-CNN baseline: -0.0067\n",
      "Mean of pearson change compared with MP-CNN baseline: -0.0004\n",
      "Architecture: AbsDiff comparison only\n",
      "Median of pearson change compared with MP-CNN baseline: 0.0047\n",
      "Mean of pearson change compared with MP-CNN baseline: 0.0099\n"
     ]
    }
   ],
   "source": [
    "compare_change_to_baseline(sick_pearson_vs_archs_dev, 'pearson')"
   ]
  },
  {
   "cell_type": "code",
   "execution_count": 39,
   "metadata": {},
   "outputs": [
    {
     "name": "stdout",
     "output_type": "stream",
     "text": [
      "Architecture: Cosine comparison only\n",
      "Median of spearman change compared with MP-CNN baseline: -0.0356\n",
      "Mean of spearman change compared with MP-CNN baseline: -0.0373\n",
      "Architecture: Euclidean comparison only\n",
      "Median of spearman change compared with MP-CNN baseline: 0.0012\n",
      "Mean of spearman change compared with MP-CNN baseline: 0.0018\n",
      "Architecture: AbsDiff comparison only\n",
      "Median of spearman change compared with MP-CNN baseline: 0.0095\n",
      "Mean of spearman change compared with MP-CNN baseline: 0.0088\n"
     ]
    }
   ],
   "source": [
    "compare_change_to_baseline(sick_spearman_vs_archs_dev, 'spearman')"
   ]
  },
  {
   "cell_type": "code",
   "execution_count": 40,
   "metadata": {},
   "outputs": [
    {
     "name": "stderr",
     "output_type": "stream",
     "text": [
      "/u3/z3tu/anaconda3/lib/python3.6/site-packages/seaborn/categorical.py:588: FutureWarning: remove_na is deprecated and is a private function. Do not use.\n",
      "  kde_data = remove_na(group_data)\n",
      "/u3/z3tu/anaconda3/lib/python3.6/site-packages/seaborn/categorical.py:816: FutureWarning: remove_na is deprecated and is a private function. Do not use.\n",
      "  violin_data = remove_na(group_data)\n"
     ]
    },
    {
     "data": {
      "text/plain": [
       "(array([ 0.82,  0.83,  0.84,  0.85,  0.86,  0.87,  0.88,  0.89]),\n",
       " <a list of 8 Text yticklabel objects>)"
      ]
     },
     "execution_count": 40,
     "metadata": {},
     "output_type": "execute_result"
    },
    {
     "data": {
      "image/png": "[encoded data removed]",
      "text/plain": [
       "<matplotlib.figure.Figure at 0x7f7c258b1cc0>"
      ]
     },
     "metadata": {},
     "output_type": "display_data"
    }
   ],
   "source": [
    "fig, ax = plt.subplots()\n",
    "fig.set_size_inches(11.7, 8.27)\n",
    "ax = sns.violinplot(x='arch', y='metric_val', data=sick_pearson_vs_archs_test, order=archs, ax=ax)\n",
    "plt.xlabel('Architecture', fontsize=24)\n",
    "plt.ylabel('Pearson', fontsize=24)\n",
    "plt.xticks(fontsize=22)\n",
    "plt.yticks(fontsize=22)\n",
    "# plt.ylim(0.86, 0.88)"
   ]
  },
  {
   "cell_type": "code",
   "execution_count": null,
   "metadata": {},
   "outputs": [],
   "source": []
  },
  {
   "cell_type": "code",
   "execution_count": null,
   "metadata": {},
   "outputs": [],
   "source": []
  }
 ],
 "metadata": {
  "kernelspec": {
   "display_name": "Python 3",
   "language": "python",
   "name": "python3"
  },
  "language_info": {
   "codemirror_mode": {
    "name": "ipython",
    "version": 3
   },
   "file_extension": ".py",
   "mimetype": "text/x-python",
   "name": "python",
   "nbconvert_exporter": "python",
   "pygments_lexer": "ipython3",
   "version": "3.6.4"
  }
 },
 "nbformat": 4,
 "nbformat_minor": 2
}
